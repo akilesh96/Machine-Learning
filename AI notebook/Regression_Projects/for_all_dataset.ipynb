{
 "cells": [
  {
   "cell_type": "code",
   "execution_count": 2,
   "metadata": {},
   "outputs": [
    {
     "name": "stderr",
     "output_type": "stream",
     "text": [
      "UsageError: unrecognized arguments: # to see matplotlib inline in notebook\n"
     ]
    }
   ],
   "source": [
    "import numpy as np\n",
    "import pandas as pd \n",
    "import matplotlib.pyplot as plt \n",
    "import seaborn as sns # Another library for visualization\n",
    "np.set_printoptions(suppress=True)\n",
    "sns.set_style(\"ticks\") # to see seaborn inline in notebook\n",
    "%matplotlib inline  # to see matplotlib inline in notebook\n",
    "plt.style.use(\"seaborn-poster\")  # make bigger plots"
   ]
  },
  {
   "cell_type": "code",
   "execution_count": 3,
   "metadata": {},
   "outputs": [
    {
     "name": "stdout",
     "output_type": "stream",
     "text": [
      "Degree: 1  column: 0\n",
      "Score for Train... 0.00011039363611720088\n",
      "Score for Test... 0.0009334414209640761\n",
      "Degree: 2  column: 0\n",
      "Score for Train... 0.0011011849021749232\n",
      "Score for Test... 0.001020576246786975\n",
      "Degree: 3  column: 0\n",
      "Score for Train... 0.0022093677431130887\n",
      "Score for Test... 0.00010398909171915882\n",
      "\n",
      "Degree: 1  column: 1\n",
      "Score for Train... 0.9411001058322538\n",
      "Score for Test... 0.9404198069142735\n",
      "Degree: 2  column: 1\n",
      "Score for Train... 0.9998777262139789\n",
      "Score for Test... 0.9998875934279884\n",
      "Degree: 3  column: 1\n",
      "Score for Train... 0.9725322997566046\n",
      "Score for Test... 0.9730098976251786\n",
      "\n",
      "Degree: 1  column: 2\n",
      "Score for Train... 0.0035688881052443606\n",
      "Score for Test... -0.021549965259720194\n",
      "Degree: 2  column: 2\n",
      "Score for Train... 0.005035538649304727\n",
      "Score for Test... -0.020475339224333755\n",
      "Degree: 3  column: 2\n",
      "Score for Train... 0.006444719295429002\n",
      "Score for Test... -0.018705097288562733\n",
      "\n",
      "Degree: 1  column: 3\n",
      "Score for Train... 0.0024847933151823653\n",
      "Score for Test... -0.005304172805765894\n",
      "Degree: 2  column: 3\n",
      "Score for Train... 0.0022706191889426686\n",
      "Score for Test... -0.007068893074802407\n",
      "Degree: 3  column: 3\n",
      "Score for Train... 0.001974371442951317\n",
      "Score for Test... -0.007999209848913669\n",
      "\n",
      "Degree: 1  column: 4\n",
      "Score for Train... 9.249214367379466e-05\n",
      "Score for Test... -0.0004936738082053083\n",
      "Degree: 2  column: 4\n",
      "Score for Train... 0.00029407051383967264\n",
      "Score for Test... -0.001448494298321279\n",
      "Degree: 3  column: 4\n",
      "Score for Train... 0.0005948215073606766\n",
      "Score for Test... -0.0027949954915322817\n",
      "\n",
      "[(1, 2)]\n"
     ]
    }
   ],
   "source": [
    "from sklearn.model_selection import train_test_split\n",
    "from sklearn.linear_model import LinearRegression\n",
    "df = pd.read_excel('dataset10 for day 5.xlsx', sheet_name='Sheet1')\n",
    "#df = pd.read_csv(\"cal_housing.csv\")\n",
    "x, y = df.iloc[:,:-1].values, df.iloc[:,-1].values\n",
    "x_train,x_test,y_train,y_test=train_test_split(x,y,test_size=0.2)\n",
    "def model(x_temp_train,x_temp_test,degree,col):\n",
    "    regressor=LinearRegression() \n",
    "    regressor.fit(x_temp_train,y_train)\n",
    "    print(\"Degree:\",degree,\" column:\",col)\n",
    "    s1 = regressor.score(x_temp_train,y_train)\n",
    "    s2 = regressor.score(x_temp_test,y_test)\n",
    "    print(\"Score for Train...\",s1)\n",
    "    print(\"Score for Test...\",s2)\n",
    "    return (s1,s2)\n",
    "def check(ms1,ms2,s1,s2,deg,mdeg):\n",
    "    if (ms1+ms2<s1+s2):\n",
    "        return (s1,s2,deg)\n",
    "    return (ms1,ms2,mdeg)\n",
    "    \n",
    "list1 = []\n",
    "\n",
    "for i in range(x_train.shape[1]):\n",
    "    ms1 = 0.0\n",
    "    ms2 = 0.0\n",
    "    degree = 0\n",
    "    # Linear regression\n",
    "    s1,s2 = model(x_train[:,i:i+1],x_test[:,i:i+1],1,i)\n",
    "    ms1,ms2,degree = check(ms1,ms2,s1,s2,1,degree)\n",
    "    # Square\n",
    "    s1,s2 = model(x_train[:,i:i+1]**2,x_test[:,i:i+1]**2,2,i)\n",
    "    ms1,ms2,degree = check(ms1,ms2,s1,s2,2,degree)\n",
    "    # Cube\n",
    "    s1,s2 = model(x_train[:,i:i+1]**3,x_test[:,i:i+1]**3,3,i)\n",
    "    ms1,ms2,degree = check(ms1,ms2,s1,s2,3,degree)\n",
    "    if (ms1+ms2>1.2):\n",
    "        list1.append(tuple((i,degree)))\n",
    "    print()\n",
    "print(list1)"
   ]
  },
  {
   "cell_type": "code",
   "execution_count": 4,
   "metadata": {},
   "outputs": [
    {
     "name": "stdout",
     "output_type": "stream",
     "text": [
      "Score for Train... 0.9998777262139789\n",
      "Score for Test... 0.9998875934279884\n"
     ]
    }
   ],
   "source": [
    "x_final_train = (x_train[:,list1[0][0]:list1[0][0]+1])**(list1[0][1])\n",
    "x_final_test = (x_test[:,list1[0][0]:list1[0][0]+1])**(list1[0][1])\n",
    "for i in range(1,len(list1)):\n",
    "    np.hstack((x_final_train,x_train[:,list1[i][0]:list1[i][0]+1]**(list1[i][1])))\n",
    "    np.hstack((x_final_test,x_test[:,list1[i][0]:list1[i][0]+1]**(list1[i][1])))\n",
    "regressor=LinearRegression()\n",
    "regressor.fit(x_final_train,y_train)\n",
    "print(\"Score for Train...\",regressor.score(x_final_train,y_train))\n",
    "print(\"Score for Test...\",regressor.score(x_final_test,y_test))"
   ]
  }
 ],
 "metadata": {
  "kernelspec": {
   "display_name": "Python 3",
   "language": "python",
   "name": "python3"
  },
  "language_info": {
   "codemirror_mode": {
    "name": "ipython",
    "version": 3
   },
   "file_extension": ".py",
   "mimetype": "text/x-python",
   "name": "python",
   "nbconvert_exporter": "python",
   "pygments_lexer": "ipython3",
   "version": "3.6.5"
  }
 },
 "nbformat": 4,
 "nbformat_minor": 2
}
