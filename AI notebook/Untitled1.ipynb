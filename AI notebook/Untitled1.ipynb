{
 "cells": [
  {
   "cell_type": "code",
   "execution_count": 1,
   "metadata": {},
   "outputs": [
    {
     "name": "stdout",
     "output_type": "stream",
     "text": [
      "Requirement already satisfied: django-extensions in c:\\users\\akilesh\\anaconda3\\lib\\site-packages (2.0.7)\n",
      "Requirement already satisfied: six>=1.2 in c:\\users\\akilesh\\anaconda3\\lib\\site-packages (from django-extensions) (1.11.0)\n"
     ]
    },
    {
     "name": "stderr",
     "output_type": "stream",
     "text": [
      "distributed 1.21.8 requires msgpack, which is not installed.\n"
     ]
    }
   ],
   "source": [
    "!pip install django-extensions"
   ]
  },
  {
   "cell_type": "code",
   "execution_count": null,
   "metadata": {},
   "outputs": [],
   "source": [
    "!pip uninstall django"
   ]
  },
  {
   "cell_type": "code",
   "execution_count": 6,
   "metadata": {},
   "outputs": [
    {
     "name": "stderr",
     "output_type": "stream",
     "text": [
      "Skipping home as it is not installed.\n"
     ]
    }
   ],
   "source": [
    "!pip uninstall home"
   ]
  },
  {
   "cell_type": "code",
   "execution_count": 5,
   "metadata": {},
   "outputs": [
    {
     "ename": "ModuleNotFoundError",
     "evalue": "No module named 'home'",
     "output_type": "error",
     "traceback": [
      "\u001b[1;31m---------------------------------------------------------------------------\u001b[0m",
      "\u001b[1;31mModuleNotFoundError\u001b[0m                       Traceback (most recent call last)",
      "\u001b[1;32m<ipython-input-5-619aa8928f5d>\u001b[0m in \u001b[0;36m<module>\u001b[1;34m()\u001b[0m\n\u001b[0;32m      2\u001b[0m \u001b[1;32mfrom\u001b[0m \u001b[0mdjango\u001b[0m\u001b[1;33m.\u001b[0m\u001b[0mhttp\u001b[0m \u001b[1;32mimport\u001b[0m \u001b[0mHttpResponse\u001b[0m\u001b[1;33m\u001b[0m\u001b[0m\n\u001b[0;32m      3\u001b[0m \u001b[1;32mimport\u001b[0m \u001b[0moperator\u001b[0m\u001b[1;33m\u001b[0m\u001b[0m\n\u001b[1;32m----> 4\u001b[1;33m \u001b[1;32mfrom\u001b[0m \u001b[0mhome\u001b[0m\u001b[1;33m.\u001b[0m\u001b[0mmodels\u001b[0m \u001b[1;32mimport\u001b[0m \u001b[0mReports\u001b[0m\u001b[1;33m\u001b[0m\u001b[0m\n\u001b[0m\u001b[0;32m      5\u001b[0m \u001b[1;32mimport\u001b[0m \u001b[0mnumpy\u001b[0m \u001b[1;32mas\u001b[0m \u001b[0mnp\u001b[0m\u001b[1;33m\u001b[0m\u001b[0m\n\u001b[0;32m      6\u001b[0m \u001b[1;32mimport\u001b[0m \u001b[0mmatplotlib\u001b[0m\u001b[1;33m.\u001b[0m\u001b[0mpyplot\u001b[0m \u001b[1;32mas\u001b[0m \u001b[0mplt\u001b[0m\u001b[1;33m\u001b[0m\u001b[0m\n",
      "\u001b[1;31mModuleNotFoundError\u001b[0m: No module named 'home'"
     ]
    }
   ],
   "source": [
    "from django.shortcuts import render\n",
    "from django.http import HttpResponse\n",
    "import operator\n",
    "from home.models import Reports\n",
    "import numpy as np\n",
    "import matplotlib.pyplot as plt\n",
    "from pylab import figure, axes, pie, title\n",
    "from matplotlib.backends.backend_agg import FigureCanvasAgg\n",
    "# from itertools import zip\n",
    "\n",
    "def impress(request):\n",
    "\treturn render(request,\"impress-reg.html\",{})\n",
    "\n",
    "\t# return render(request,\"index.html\",{})\n",
    "\n",
    "def report(request):\n",
    "\tob = Reports.objects.filter(RegisterNumber = request.POST['reg'])\n",
    "\trequest.session['reg'] = request.POST['reg']\n",
    "\ttotal = int(ob[0].Attitude)+int(ob[0].Enthusiasm)+int(ob[0].Confidence)+int(ob[0].KnowledgeofJobRoles)+int(ob[0].Education)+int(ob[0].RelatedExperience)+int(ob[0].AnsweredQuestionsWell)+int(ob[0].TeamSkills)+int(ob[0].CommunicationSkills)+int(ob[0].NonVerbal)+int(ob[0].ListeningSkills)+int(ob[0].ResumeConstruction)+int(ob[0].ChoiceofAreaofInterest)+int(ob[0].Answersfocusedonstrengths)+int(ob[0].TechnicalCompetency)+int(ob[0].Greet)+int(ob[0].Dressed)+int(ob[0].AskedGoodQuestions)+int(ob[0].ThankedInterviewer)\n",
    "\ttotal /= 190\n",
    "\ttotal *= 100\n",
    "\tprint(total)\n",
    "\n",
    "\tpersonalTraits = int(ob[0].Attitude)+int(ob[0].Enthusiasm)+int(ob[0].Confidence)+int(ob[0].Greet)+int(ob[0].Dressed)+int(ob[0].ThankedInterviewer)\t\n",
    "\tpersonalTraits /= 60\n",
    "\tpersonalTraits *= 100\n",
    "\n",
    "\tsoftskills = int(ob[0].TeamSkills)+int(ob[0].CommunicationSkills)+int(ob[0].NonVerbal)+int(ob[0].ListeningSkills)+int(ob[0].ResumeConstruction)+int(ob[0].AskedGoodQuestions)\n",
    "\tsoftskills /= 60\n",
    "\tsoftskills *= 100\n",
    "\n",
    "\tinterviewReadiness = int(ob[0].KnowledgeofJobRoles)+int(ob[0].Education)+int(ob[0].RelatedExperience)+int(ob[0].AnsweredQuestionsWell)+int(ob[0].ChoiceofAreaofInterest)+int(ob[0].Answersfocusedonstrengths)+int(ob[0].TechnicalCompetency)\n",
    "\tinterviewReadiness /= 60\n",
    "\tinterviewReadiness *= 100\n",
    "\n",
    "\tgrowth = {'Attitude' :   int(ob[0].Attitude)* 10,\n",
    "\t'Enthusiasm' :   int(ob[0].Enthusiasm)* 10,\n",
    "\t'Confidence' :   int(ob[0].Confidence)* 10,\n",
    "\t'KnowledgeofJint(obRoles' :   int(ob[0].KnowledgeofJobRoles)* 10,\n",
    "\t'Education' :   int(ob[0].Education)* 10,\n",
    "\t'RelatedExperience' :   int(ob[0].RelatedExperience)* 10,\n",
    "\t'AnsweredQuestionsWell' :   int(ob[0].AnsweredQuestionsWell)* 10,\n",
    "\t'TeamSkills' :   int(ob[0].TeamSkills)* 10,\n",
    "\t'CommunicationSkills' :   int(ob[0].CommunicationSkills)* 10,\n",
    "\t'NonVerbal' :   int(ob[0].NonVerbal)* 10,\n",
    "\t'ListeningSkills' :   int(ob[0].ListeningSkills)* 10,\n",
    "\t'ResumeConstruction' :   int(ob[0].ResumeConstruction)* 10,\n",
    "\t'ChoiceofAreaofInterest' :   int(ob[0].ChoiceofAreaofInterest)* 10,\n",
    "\t'Greet' :   int(ob[0].Greet)* 10,\n",
    "\t'Dressed' :   int(ob[0].Dressed)* 10,\n",
    "\t'AskedGoodQuestions' :   int(ob[0].AskedGoodQuestions)* 10,\n",
    "\t'ThankedInterviewer' :   int(ob[0].ThankedInterviewer )*10}\n",
    "\n",
    "\taog = sorted(growth.items(), key=operator.itemgetter(1))\n",
    "\treturn render(request,\"student-report.html\",{'dept':ob[0].Department,'reg':ob[0].RegisterNumber,'name':ob[0].CandidateName,'total':int(total),'personalTraits':int(personalTraits),'softskills':int(softskills),'interviewReadiness':int(interviewReadiness),'aog':aog,'chart':\"pr\",'growth':growth.items()})\n",
    "\n",
    "def regno(request):\n",
    "\treturn request.session[\"reg\"]\n",
    "\n",
    "\n",
    "from random import randint\n",
    "from django.views.generic import TemplateView\n",
    "from chartjs.views.lines import BaseLineChartView\n",
    "\n",
    "\n",
    "class LineChartJSONView(BaseLineChartView):\n",
    "    def get_labels(self):\n",
    "        \"\"\"Return 7 labels for the x-axis.\"\"\"\n",
    "        return [\"Communication\", \"Listening\", \"Non-Verbal\", \"TeamSkill\", \"AskedQuestions\", \"Resume\"]\n",
    "\n",
    "    def get_providers(self):\n",
    "        \"\"\"Return names of datasets.\"\"\"\n",
    "        return [\"You\", \"St.Joseph's\"]\n",
    " \n",
    "  \n",
    "    def get_data(self):\n",
    "        \"\"\"Return 3 datasets to plot.\"\"\"\n",
    "        try:\n",
    "        \tob = Reports.objects.filter(RegisterNumber = self.request.session['reg'])\n",
    "        \t\n",
    "        \treturn [[int(ob[0].CommunicationSkills), int(ob[0].ListeningSkills), int(ob[0].NonVerbal), int(ob[0].TeamSkills), int(ob[0].AskedGoodQuestions), int(ob[0].ResumeConstruction)],\n",
    "                [8, 2, 9, 3, 9, 1, 6]]\t\n",
    "        except:\n",
    "        \tprint(self)\n",
    "        \tpass        \t\n",
    "        return [[7, 4, 9, 1, 4, 9, 3],\n",
    "                \n",
    "                [8, 2, 9, 3, 9, 1, 6]]\n",
    "\n",
    "\n",
    "line_chart = TemplateView.as_view(template_name='line_chart.html')\n",
    "line_chart_json = LineChartJSONView.as_view()    \n",
    "\n",
    "\n",
    "\n",
    "class LineChartJSONView2(BaseLineChartView):\n",
    "    def get_labels(self):\n",
    "        \"\"\"Return 7 labels for the x-axis.\"\"\"\n",
    "        return [\"Answers focused on Strengths\", \"Area Of Interest\", \"TechAnswers\", \"JobRoles\", \"Education\", \"Technical\"]\n",
    "\n",
    "    def get_providers(self):\n",
    "        \"\"\"Return names of datasets.\"\"\"\n",
    "        return [\"You\", \"St.Joseph's\"]\n",
    "  \n",
    "\n",
    "    def get_data(self):\n",
    "        \"\"\"Return 3 datasets to plot.\"\"\"\n",
    "        try:\n",
    "        \tob = Reports.objects.filter(RegisterNumber = self.request.session['reg'])\n",
    "        \treturn [[int(ob[0].Answersfocusedonstrengths), int(ob[0].ChoiceofAreaofInterest), int(ob[0].AnsweredQuestionsWell), int(ob[0].KnowledgeofJobRoles), int(ob[0].Education), int(ob[0].TechnicalCompetency)],\n",
    "                [8, 2, 9, 3, 9, 1]]\t\n",
    "        except:\n",
    "        \tprint(self)\n",
    "        \tpass        \t\n",
    "        return [[7, 4, 9, 1, 4, 9, 3],\n",
    "                \n",
    "                [8, 2, 9, 3, 9, 1, 6]]\n",
    "\n",
    "\n",
    "line_chart = TemplateView.as_view(template_name='line_chart.html')\n",
    "line_chart_json_int = LineChartJSONView2.as_view()    "
   ]
  },
  {
   "cell_type": "code",
   "execution_count": null,
   "metadata": {},
   "outputs": [],
   "source": []
  }
 ],
 "metadata": {
  "kernelspec": {
   "display_name": "Python 3",
   "language": "python",
   "name": "python3"
  },
  "language_info": {
   "codemirror_mode": {
    "name": "ipython",
    "version": 3
   },
   "file_extension": ".py",
   "mimetype": "text/x-python",
   "name": "python",
   "nbconvert_exporter": "python",
   "pygments_lexer": "ipython3",
   "version": "3.6.5"
  }
 },
 "nbformat": 4,
 "nbformat_minor": 2
}
