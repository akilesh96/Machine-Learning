{
 "cells": [
  {
   "cell_type": "markdown",
   "metadata": {},
   "source": [
    "# Logistic Regression"
   ]
  },
  {
   "cell_type": "code",
   "execution_count": 1,
   "metadata": {},
   "outputs": [
    {
     "name": "stdout",
     "output_type": "stream",
     "text": [
      "(455, 30) (114, 30)\n",
      "(455,) (114,)\n"
     ]
    }
   ],
   "source": [
    "import numpy as np\n",
    "from sklearn.tree import DecisionTreeClassifier\n",
    "import pandas as pd\n",
    "import matplotlib.pyplot as plt\n",
    "df = pd.read_csv(\"breast_cancer.csv\")\n",
    "df.shape\n",
    "df = df.iloc[:,:-1]\n",
    "x = df.iloc[:,2:].values\n",
    "y = df.iloc[:,1].values\n",
    "from sklearn.preprocessing import LabelEncoder\n",
    "le = LabelEncoder()\n",
    "y = le.fit_transform(y)\n",
    "from sklearn.model_selection import train_test_split\n",
    "x_train, x_test, y_train, y_test = train_test_split(x, y, test_size=0.2, random_state=700)\n",
    "print(x_train.shape, x_test.shape)\n",
    "print(y_train.shape, y_test.shape)"
   ]
  },
  {
   "cell_type": "code",
   "execution_count": 2,
   "metadata": {},
   "outputs": [
    {
     "data": {
      "text/plain": [
       "LogisticRegression(C=1.0, class_weight=None, dual=False, fit_intercept=True,\n",
       "          intercept_scaling=1, max_iter=100, multi_class='ovr', n_jobs=1,\n",
       "          penalty='l2', random_state=None, solver='liblinear', tol=0.0001,\n",
       "          verbose=0, warm_start=False)"
      ]
     },
     "execution_count": 2,
     "metadata": {},
     "output_type": "execute_result"
    }
   ],
   "source": [
    "from sklearn.linear_model import LogisticRegression\n",
    "lr_model = LogisticRegression()\n",
    "lr_model.fit(x_train, y_train)"
   ]
  },
  {
   "cell_type": "code",
   "execution_count": 3,
   "metadata": {},
   "outputs": [
    {
     "name": "stdout",
     "output_type": "stream",
     "text": [
      "Threshold is 0.0\n",
      "[[  0 288]\n",
      " [  0 167]]\n",
      "\n",
      "Threshold is 0.05\n",
      "[[234  54]\n",
      " [  0 167]]\n",
      "\n",
      "Threshold is 0.1\n",
      "[[259  29]\n",
      " [  1 166]]\n",
      "\n",
      "Threshold is 0.15000000000000002\n",
      "[[266  22]\n",
      " [  1 166]]\n",
      "\n",
      "Threshold is 0.2\n",
      "[[275  13]\n",
      " [  2 165]]\n",
      "\n",
      "Threshold is 0.25\n",
      "[[277  11]\n",
      " [  4 163]]\n",
      "\n",
      "Threshold is 0.30000000000000004\n",
      "[[278  10]\n",
      " [  7 160]]\n",
      "\n",
      "Threshold is 0.35000000000000003\n",
      "[[279   9]\n",
      " [  8 159]]\n",
      "\n",
      "Threshold is 0.4\n",
      "[[279   9]\n",
      " [ 10 157]]\n",
      "\n",
      "Threshold is 0.45\n",
      "[[279   9]\n",
      " [ 11 156]]\n",
      "\n",
      "Threshold is 0.5\n",
      "[[279   9]\n",
      " [ 12 155]]\n",
      "\n",
      "Threshold is 0.55\n",
      "[[281   7]\n",
      " [ 12 155]]\n",
      "\n",
      "Threshold is 0.6000000000000001\n",
      "[[283   5]\n",
      " [ 12 155]]\n",
      "\n",
      "Threshold is 0.65\n",
      "[[286   2]\n",
      " [ 13 154]]\n",
      "\n",
      "Threshold is 0.7000000000000001\n",
      "[[287   1]\n",
      " [ 15 152]]\n",
      "\n",
      "Threshold is 0.75\n",
      "[[287   1]\n",
      " [ 16 151]]\n",
      "\n",
      "Threshold is 0.8\n",
      "[[287   1]\n",
      " [ 19 148]]\n",
      "\n",
      "Threshold is 0.8500000000000001\n",
      "[[288   0]\n",
      " [ 21 146]]\n",
      "\n",
      "Threshold is 0.9\n",
      "[[288   0]\n",
      " [ 26 141]]\n",
      "\n",
      "Threshold is 0.9500000000000001\n",
      "[[288   0]\n",
      " [ 31 136]]\n",
      "\n"
     ]
    }
   ],
   "source": [
    "from sklearn.metrics import confusion_matrix, accuracy_score\n",
    "p_score = lr_model.predict_proba(x_train)[:,1]\n",
    "for t in np.arange(0,1,0.05):\n",
    "    class_labels = p_score >= t\n",
    "    print(\"Threshold is\", t)\n",
    "    print(confusion_matrix(y_train,class_labels.astype(int)))\n",
    "    print()"
   ]
  },
  {
   "cell_type": "code",
   "execution_count": 20,
   "metadata": {},
   "outputs": [
    {
     "name": "stdout",
     "output_type": "stream",
     "text": [
      "Training:\n",
      " [[277  11]\n",
      " [  4 163]]\n",
      "Testing:\n",
      " [[62  7]\n",
      " [ 3 42]]\n"
     ]
    }
   ],
   "source": [
    "c_25 = p_score > 0.25\n",
    "print(\"Training:\\n\",confusion_matrix(y_train,c_25.astype(int)))\n",
    "p_score_test = lr_model.predict_proba(x_test)[:,1]\n",
    "c_25_test = p_score_test > 0.25\n",
    "print(\"Testing:\\n\",confusion_matrix(y_test,c_25_test.astype(int)))"
   ]
  },
  {
   "cell_type": "markdown",
   "metadata": {},
   "source": [
    "# Support Vector Machine"
   ]
  },
  {
   "cell_type": "code",
   "execution_count": 14,
   "metadata": {},
   "outputs": [],
   "source": [
    "from sklearn.svm import SVC"
   ]
  },
  {
   "cell_type": "code",
   "execution_count": 15,
   "metadata": {},
   "outputs": [
    {
     "name": "stdout",
     "output_type": "stream",
     "text": [
      "SVC(C=0.1, cache_size=200, class_weight=None, coef0=0.0,\n",
      "  decision_function_shape='ovr', degree=3, gamma=0.001, kernel='linear',\n",
      "  max_iter=-1, probability=False, random_state=None, shrinking=True,\n",
      "  tol=0.001, verbose=False)\n",
      "\n",
      "Best Score:  0.9648351648351648\n"
     ]
    }
   ],
   "source": [
    "from sklearn.model_selection import GridSearchCV\n",
    "svm_classifier = SVC()\n",
    "param_grid = {\n",
    "    \"C\":[0.001,0.01,0.1,1.0],\n",
    "    \"kernel\":[\"linear\",\"sigmoid\"],\n",
    "    \"gamma\":[0.001,0.01,0.1,1.0]\n",
    "}\n",
    "grid = GridSearchCV (estimator=svm_classifier, param_grid=param_grid, cv=5)\n",
    "grid.fit(x_train, y_train)\n",
    "print(grid.best_estimator_)\n",
    "print(\"\\nBest Score: \",grid.best_score_)"
   ]
  },
  {
   "cell_type": "code",
   "execution_count": 19,
   "metadata": {},
   "outputs": [
    {
     "name": "stdout",
     "output_type": "stream",
     "text": [
      "Testing Acc Score 0.8771929824561403\n",
      "Training:\n",
      " [[284   4]\n",
      " [  9 158]]\n",
      "Testing:\n",
      " [[62  7]\n",
      " [ 7 38]]\n"
     ]
    }
   ],
   "source": [
    "print(\"Testing Acc Score\",accuracy_score(y_test, grid.predict(x_test)))\n",
    "print(\"Training:\\n\",confusion_matrix(y_train, grid.predict(x_train)))\n",
    "print(\"Testing:\\n\",confusion_matrix(y_test, grid.predict(x_test)))"
   ]
  },
  {
   "cell_type": "code",
   "execution_count": null,
   "metadata": {},
   "outputs": [],
   "source": []
  }
 ],
 "metadata": {
  "kernelspec": {
   "display_name": "Python 3",
   "language": "python",
   "name": "python3"
  },
  "language_info": {
   "codemirror_mode": {
    "name": "ipython",
    "version": 3
   },
   "file_extension": ".py",
   "mimetype": "text/x-python",
   "name": "python",
   "nbconvert_exporter": "python",
   "pygments_lexer": "ipython3",
   "version": "3.6.5"
  }
 },
 "nbformat": 4,
 "nbformat_minor": 2
}
