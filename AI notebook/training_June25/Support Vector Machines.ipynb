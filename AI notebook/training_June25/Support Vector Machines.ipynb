{
 "cells": [
  {
   "cell_type": "code",
   "execution_count": 1,
   "metadata": {},
   "outputs": [],
   "source": [
    "import numpy as np\n",
    "import pandas as pd\n",
    "import matplotlib.pyplot as plt"
   ]
  },
  {
   "cell_type": "code",
   "execution_count": 2,
   "metadata": {},
   "outputs": [
    {
     "data": {
      "text/plain": [
       "[<matplotlib.lines.Line2D at 0x84779f0>]"
      ]
     },
     "execution_count": 2,
     "metadata": {},
     "output_type": "execute_result"
    },
    {
     "data": {
      "image/png": "[encoded data removed]",
      "text/plain": [
       "<Figure size 432x288 with 1 Axes>"
      ]
     },
     "metadata": {},
     "output_type": "display_data"
    }
   ],
   "source": [
    "x = np.linspace(0.1,3,100)\n",
    "y = 1.0 / x\n",
    "plt.plot(x,y)"
   ]
  },
  {
   "cell_type": "code",
   "execution_count": 30,
   "metadata": {},
   "outputs": [],
   "source": [
    "df = pd.read_csv(\"breast_cancer.csv\")"
   ]
  },
  {
   "cell_type": "code",
   "execution_count": 31,
   "metadata": {},
   "outputs": [
    {
     "name": "stdout",
     "output_type": "stream",
     "text": [
      "(455, 30) (114, 30)\n",
      "(455,) (114,)\n"
     ]
    }
   ],
   "source": [
    "df = df.iloc[:,:-1]\n",
    "x = df.iloc[:,2:].values\n",
    "y = df.iloc[:,1].values\n",
    "from sklearn.preprocessing import LabelEncoder\n",
    "le = LabelEncoder()\n",
    "y = le.fit_transform(y)\n",
    "from sklearn.model_selection import train_test_split\n",
    "x_train, x_test, y_train, y_test = train_test_split(x, y, test_size=0.2)\n",
    "print(x_train.shape, x_test.shape)\n",
    "print(y_train.shape, y_test.shape)"
   ]
  },
  {
   "cell_type": "code",
   "execution_count": 5,
   "metadata": {},
   "outputs": [],
   "source": [
    "from sklearn.svm import SVC"
   ]
  },
  {
   "cell_type": "code",
   "execution_count": 18,
   "metadata": {},
   "outputs": [],
   "source": [
    "#svm_model = SVC()\n",
    "svm_model = SVC(kernel='linear',probability=True)\n",
    "#svm_model = SVC(kernel='poly',degree=3)"
   ]
  },
  {
   "cell_type": "code",
   "execution_count": 19,
   "metadata": {},
   "outputs": [
    {
     "data": {
      "text/plain": [
       "SVC(C=1.0, cache_size=200, class_weight=None, coef0=0.0,\n",
       "  decision_function_shape='ovr', degree=3, gamma='auto', kernel='linear',\n",
       "  max_iter=-1, probability=True, random_state=None, shrinking=True,\n",
       "  tol=0.001, verbose=False)"
      ]
     },
     "execution_count": 19,
     "metadata": {},
     "output_type": "execute_result"
    }
   ],
   "source": [
    "svm_model.fit(x_train,y_train)"
   ]
  },
  {
   "cell_type": "code",
   "execution_count": 20,
   "metadata": {
    "collapsed": true
   },
   "outputs": [
    {
     "data": {
      "text/plain": [
       "array([[9.72585887e-01, 2.74141130e-02],\n",
       "       [9.46897008e-01, 5.31029918e-02],\n",
       "       [9.66747909e-01, 3.32520912e-02],\n",
       "       [9.86640676e-01, 1.33593237e-02],\n",
       "       [9.61278608e-01, 3.87213921e-02],\n",
       "       [9.80623385e-01, 1.93766148e-02],\n",
       "       [9.96037484e-01, 3.96251580e-03],\n",
       "       [9.94131709e-01, 5.86829061e-03],\n",
       "       [3.00000090e-14, 1.00000000e+00],\n",
       "       [8.35666461e-01, 1.64333539e-01],\n",
       "       [7.25336989e-01, 2.74663011e-01],\n",
       "       [2.51900811e-01, 7.48099189e-01],\n",
       "       [1.85409094e-10, 1.00000000e+00],\n",
       "       [3.98104991e-10, 1.00000000e+00],\n",
       "       [9.90119556e-01, 9.88044441e-03],\n",
       "       [5.03060386e-02, 9.49693961e-01],\n",
       "       [6.44652807e-01, 3.55347193e-01],\n",
       "       [9.78909262e-01, 2.10907383e-02],\n",
       "       [1.68341128e-01, 8.31658872e-01],\n",
       "       [2.12427557e-01, 7.87572443e-01],\n",
       "       [5.64472715e-03, 9.94355273e-01],\n",
       "       [3.52207838e-06, 9.99996478e-01],\n",
       "       [9.78330674e-01, 2.16693259e-02],\n",
       "       [8.17550837e-01, 1.82449163e-01],\n",
       "       [7.92197041e-01, 2.07802959e-01],\n",
       "       [7.48424281e-01, 2.51575719e-01],\n",
       "       [9.42068264e-01, 5.79317360e-02],\n",
       "       [1.67388104e-09, 9.99999998e-01],\n",
       "       [3.27310689e-12, 1.00000000e+00],\n",
       "       [9.17017232e-01, 8.29827675e-02],\n",
       "       [1.85471868e-07, 9.99999815e-01],\n",
       "       [9.89464842e-01, 1.05351578e-02],\n",
       "       [9.62673353e-01, 3.73266471e-02],\n",
       "       [7.51459845e-02, 9.24854016e-01],\n",
       "       [3.00000090e-14, 1.00000000e+00],\n",
       "       [9.86712633e-01, 1.32873665e-02],\n",
       "       [9.83140371e-01, 1.68596292e-02],\n",
       "       [9.95181796e-01, 4.81820381e-03],\n",
       "       [9.98510759e-01, 1.48924135e-03],\n",
       "       [9.76067950e-01, 2.39320505e-02],\n",
       "       [9.98693992e-01, 1.30600827e-03],\n",
       "       [9.94667186e-01, 5.33281351e-03],\n",
       "       [2.55667206e-02, 9.74433279e-01],\n",
       "       [3.00000090e-14, 1.00000000e+00],\n",
       "       [9.86350118e-01, 1.36498815e-02],\n",
       "       [9.97308445e-01, 2.69155500e-03],\n",
       "       [9.95589626e-01, 4.41037370e-03],\n",
       "       [9.95160551e-01, 4.83944925e-03],\n",
       "       [1.44267569e-01, 8.55732431e-01],\n",
       "       [2.22773428e-02, 9.77722657e-01],\n",
       "       [9.03522651e-01, 9.64773495e-02],\n",
       "       [2.81311650e-02, 9.71868835e-01],\n",
       "       [9.95470284e-01, 4.52971593e-03],\n",
       "       [7.47216752e-03, 9.92527832e-01],\n",
       "       [1.01947113e-08, 9.99999990e-01],\n",
       "       [6.70007724e-01, 3.29992276e-01],\n",
       "       [9.41966011e-01, 5.80339892e-02],\n",
       "       [9.58935556e-01, 4.10644436e-02],\n",
       "       [9.63671177e-01, 3.63288231e-02],\n",
       "       [2.01017174e-07, 9.99999799e-01],\n",
       "       [3.00000090e-14, 1.00000000e+00],\n",
       "       [9.92635370e-01, 7.36463038e-03],\n",
       "       [4.73048199e-02, 9.52695180e-01],\n",
       "       [7.89116128e-01, 2.10883872e-01],\n",
       "       [1.30791575e-08, 9.99999987e-01],\n",
       "       [8.24963086e-01, 1.75036914e-01],\n",
       "       [5.78607815e-01, 4.21392185e-01],\n",
       "       [9.55754029e-01, 4.42459714e-02],\n",
       "       [9.92204705e-01, 7.79529501e-03],\n",
       "       [8.43229372e-01, 1.56770628e-01],\n",
       "       [9.72563931e-01, 2.74360691e-02],\n",
       "       [1.65840164e-01, 8.34159836e-01],\n",
       "       [9.99992146e-01, 7.85365323e-06],\n",
       "       [9.97763921e-01, 2.23607933e-03],\n",
       "       [9.78306289e-01, 2.16937106e-02],\n",
       "       [1.91199491e-05, 9.99980880e-01],\n",
       "       [1.56431015e-13, 1.00000000e+00],\n",
       "       [9.07341244e-01, 9.26587560e-02],\n",
       "       [1.02079204e-02, 9.89792080e-01],\n",
       "       [9.08305584e-01, 9.16944158e-02],\n",
       "       [9.05600811e-01, 9.43991891e-02],\n",
       "       [9.93801072e-01, 6.19892764e-03],\n",
       "       [9.89642497e-01, 1.03575027e-02],\n",
       "       [8.91163225e-01, 1.08836775e-01],\n",
       "       [5.31922096e-01, 4.68077904e-01],\n",
       "       [9.51792234e-01, 4.82077664e-02],\n",
       "       [9.93255759e-01, 6.74424095e-03],\n",
       "       [9.97017224e-01, 2.98277603e-03],\n",
       "       [9.53797781e-01, 4.62022195e-02],\n",
       "       [1.37031746e-02, 9.86296825e-01],\n",
       "       [9.97282306e-01, 2.71769418e-03],\n",
       "       [1.42771965e-08, 9.99999986e-01],\n",
       "       [9.20423635e-01, 7.95763651e-02],\n",
       "       [9.20753863e-01, 7.92461366e-02],\n",
       "       [9.79553382e-01, 2.04466185e-02],\n",
       "       [4.80682762e-02, 9.51931724e-01],\n",
       "       [9.55492467e-02, 9.04450753e-01],\n",
       "       [6.60294070e-07, 9.99999340e-01],\n",
       "       [3.95866745e-02, 9.60413325e-01],\n",
       "       [9.99164776e-01, 8.35224340e-04],\n",
       "       [9.37570368e-01, 6.24296318e-02],\n",
       "       [1.90329274e-02, 9.80967073e-01],\n",
       "       [9.99025065e-01, 9.74934998e-04],\n",
       "       [9.91357794e-01, 8.64220564e-03],\n",
       "       [9.99579151e-01, 4.20848705e-04],\n",
       "       [7.98136089e-02, 9.20186391e-01],\n",
       "       [3.98172109e-01, 6.01827891e-01],\n",
       "       [9.98588451e-01, 1.41154922e-03],\n",
       "       [8.96473834e-01, 1.03526166e-01],\n",
       "       [3.85811643e-02, 9.61418836e-01],\n",
       "       [8.30934657e-01, 1.69065343e-01],\n",
       "       [8.76893532e-01, 1.23106468e-01],\n",
       "       [9.97106635e-01, 2.89336511e-03],\n",
       "       [7.91166009e-02, 9.20883399e-01],\n",
       "       [8.16971409e-02, 9.18302859e-01],\n",
       "       [3.00000090e-14, 1.00000000e+00],\n",
       "       [2.30919401e-02, 9.76908060e-01],\n",
       "       [9.99461141e-01, 5.38858839e-04],\n",
       "       [7.43531809e-01, 2.56468191e-01],\n",
       "       [9.95115187e-01, 4.88481267e-03],\n",
       "       [8.19619029e-02, 9.18038097e-01],\n",
       "       [9.40201905e-01, 5.97980949e-02],\n",
       "       [9.66035057e-01, 3.39649431e-02],\n",
       "       [9.64968164e-01, 3.50318364e-02],\n",
       "       [4.66669583e-06, 9.99995333e-01],\n",
       "       [8.77361566e-01, 1.22638434e-01],\n",
       "       [8.27320044e-01, 1.72679956e-01],\n",
       "       [9.38207777e-01, 6.17922227e-02],\n",
       "       [8.61103404e-01, 1.38896596e-01],\n",
       "       [9.85925529e-01, 1.40744712e-02],\n",
       "       [9.98914203e-01, 1.08579694e-03],\n",
       "       [4.85684671e-01, 5.14315329e-01],\n",
       "       [9.98625132e-01, 1.37486783e-03],\n",
       "       [7.76699129e-01, 2.23300871e-01],\n",
       "       [9.71481837e-01, 2.85181633e-02],\n",
       "       [2.80874114e-03, 9.97191259e-01],\n",
       "       [9.67614474e-01, 3.23855259e-02],\n",
       "       [3.00000090e-14, 1.00000000e+00],\n",
       "       [3.53605023e-01, 6.46394977e-01],\n",
       "       [9.95893395e-01, 4.10660519e-03],\n",
       "       [9.97703134e-01, 2.29686566e-03],\n",
       "       [9.94460960e-01, 5.53903973e-03],\n",
       "       [9.81625272e-01, 1.83747284e-02],\n",
       "       [4.11445046e-03, 9.95885550e-01],\n",
       "       [9.98329136e-01, 1.67086366e-03],\n",
       "       [9.81262554e-01, 1.87374462e-02],\n",
       "       [4.22510390e-08, 9.99999958e-01],\n",
       "       [9.89672642e-01, 1.03273576e-02],\n",
       "       [9.84722413e-01, 1.52775867e-02],\n",
       "       [1.89613466e-06, 9.99998104e-01],\n",
       "       [9.99750252e-01, 2.49747988e-04],\n",
       "       [9.97429474e-01, 2.57052557e-03],\n",
       "       [4.14749545e-01, 5.85250455e-01],\n",
       "       [9.87094795e-01, 1.29052047e-02],\n",
       "       [1.69388835e-09, 9.99999998e-01],\n",
       "       [9.97007512e-01, 2.99248828e-03],\n",
       "       [9.66127736e-01, 3.38722636e-02],\n",
       "       [9.74842410e-01, 2.51575901e-02],\n",
       "       [3.87384792e-02, 9.61261521e-01],\n",
       "       [9.81059115e-01, 1.89408851e-02],\n",
       "       [9.73402779e-01, 2.65972209e-02],\n",
       "       [8.88556270e-01, 1.11443730e-01],\n",
       "       [1.45855154e-06, 9.99998541e-01],\n",
       "       [8.46865318e-01, 1.53134682e-01],\n",
       "       [2.76482390e-01, 7.23517610e-01],\n",
       "       [3.39478920e-06, 9.99996605e-01],\n",
       "       [9.39365949e-01, 6.06340506e-02],\n",
       "       [6.32922524e-02, 9.36707748e-01],\n",
       "       [1.00068003e-06, 9.99998999e-01],\n",
       "       [9.94282910e-01, 5.71709013e-03],\n",
       "       [9.98186100e-01, 1.81389961e-03],\n",
       "       [3.00000090e-14, 1.00000000e+00],\n",
       "       [9.21547401e-01, 7.84525990e-02],\n",
       "       [8.38825408e-01, 1.61174592e-01],\n",
       "       [9.16607897e-11, 1.00000000e+00],\n",
       "       [8.05448264e-01, 1.94551736e-01],\n",
       "       [9.98070389e-01, 1.92961092e-03],\n",
       "       [1.40454867e-06, 9.99998595e-01],\n",
       "       [9.82320040e-01, 1.76799597e-02],\n",
       "       [9.84003210e-01, 1.59967904e-02],\n",
       "       [7.84527910e-13, 1.00000000e+00],\n",
       "       [9.69593373e-01, 3.04066269e-02],\n",
       "       [3.75441766e-11, 1.00000000e+00],\n",
       "       [8.72127165e-01, 1.27872835e-01],\n",
       "       [9.98074691e-01, 1.92530902e-03],\n",
       "       [7.72903635e-01, 2.27096365e-01],\n",
       "       [1.87370456e-01, 8.12629544e-01],\n",
       "       [9.96839313e-01, 3.16068719e-03],\n",
       "       [9.71368092e-01, 2.86319078e-02],\n",
       "       [5.90231980e-07, 9.99999410e-01],\n",
       "       [9.61238628e-01, 3.87613716e-02],\n",
       "       [9.99420615e-01, 5.79384643e-04],\n",
       "       [2.66847406e-02, 9.73315259e-01],\n",
       "       [2.75192294e-02, 9.72480771e-01],\n",
       "       [8.17620559e-09, 9.99999992e-01],\n",
       "       [1.27491707e-09, 9.99999999e-01],\n",
       "       [9.95135135e-01, 4.86486476e-03],\n",
       "       [3.00000090e-14, 1.00000000e+00],\n",
       "       [9.91205418e-01, 8.79458236e-03],\n",
       "       [3.01453401e-07, 9.99999699e-01],\n",
       "       [9.90826212e-01, 9.17378799e-03],\n",
       "       [9.49338300e-01, 5.06617005e-02],\n",
       "       [9.92714789e-01, 7.28521114e-03],\n",
       "       [3.14279269e-03, 9.96857207e-01],\n",
       "       [9.34825351e-01, 6.51746493e-02],\n",
       "       [9.84156980e-01, 1.58430202e-02],\n",
       "       [9.88674789e-01, 1.13252109e-02],\n",
       "       [1.32926074e-07, 9.99999867e-01],\n",
       "       [1.42852890e-01, 8.57147110e-01],\n",
       "       [9.93108441e-01, 6.89155856e-03],\n",
       "       [9.08910611e-01, 9.10893892e-02],\n",
       "       [9.93170430e-01, 6.82957049e-03],\n",
       "       [9.94951780e-01, 5.04822041e-03],\n",
       "       [9.42955665e-01, 5.70443352e-02],\n",
       "       [2.54676827e-12, 1.00000000e+00],\n",
       "       [9.45158007e-01, 5.48419929e-02],\n",
       "       [4.41708779e-02, 9.55829122e-01],\n",
       "       [9.16572644e-01, 8.34273563e-02],\n",
       "       [9.89082511e-01, 1.09174888e-02],\n",
       "       [9.94608590e-01, 5.39140989e-03],\n",
       "       [9.98666914e-01, 1.33308625e-03],\n",
       "       [2.48009390e-06, 9.99997520e-01],\n",
       "       [9.95970395e-01, 4.02960511e-03],\n",
       "       [2.27610364e-09, 9.99999998e-01],\n",
       "       [3.31386490e-03, 9.96686135e-01],\n",
       "       [9.97195353e-01, 2.80464654e-03],\n",
       "       [9.92325685e-01, 7.67431550e-03],\n",
       "       [1.48128631e-08, 9.99999985e-01],\n",
       "       [9.34081739e-01, 6.59182612e-02],\n",
       "       [9.92048486e-01, 7.95151396e-03],\n",
       "       [2.96677548e-01, 7.03322452e-01],\n",
       "       [3.00000090e-14, 1.00000000e+00],\n",
       "       [9.29117099e-01, 7.08829007e-02],\n",
       "       [9.41751843e-01, 5.82481569e-02],\n",
       "       [5.97829482e-01, 4.02170518e-01],\n",
       "       [6.98819037e-01, 3.01180963e-01],\n",
       "       [8.01904312e-01, 1.98095688e-01],\n",
       "       [1.79412114e-06, 9.99998206e-01],\n",
       "       [9.90841127e-01, 9.15887271e-03],\n",
       "       [9.81232574e-01, 1.87674260e-02],\n",
       "       [6.27627945e-01, 3.72372055e-01],\n",
       "       [5.82040210e-03, 9.94179598e-01],\n",
       "       [6.63146785e-11, 1.00000000e+00],\n",
       "       [9.42446012e-01, 5.75539877e-02],\n",
       "       [9.99721570e-01, 2.78429707e-04],\n",
       "       [2.01463332e-01, 7.98536668e-01],\n",
       "       [9.91377154e-01, 8.62284563e-03],\n",
       "       [9.98837509e-01, 1.16249081e-03],\n",
       "       [3.12293605e-06, 9.99996877e-01],\n",
       "       [9.98512634e-01, 1.48736641e-03],\n",
       "       [1.39900905e-08, 9.99999986e-01],\n",
       "       [9.96181850e-01, 3.81814998e-03],\n",
       "       [6.13480859e-02, 9.38651914e-01],\n",
       "       [6.28918954e-03, 9.93710810e-01],\n",
       "       [3.00000090e-14, 1.00000000e+00],\n",
       "       [9.27670845e-01, 7.23291553e-02],\n",
       "       [9.49590032e-01, 5.04099677e-02],\n",
       "       [9.99191874e-01, 8.08126195e-04],\n",
       "       [9.99244486e-01, 7.55513857e-04],\n",
       "       [6.28139942e-10, 9.99999999e-01],\n",
       "       [1.21962677e-06, 9.99998780e-01],\n",
       "       [9.99900982e-01, 9.90180141e-05],\n",
       "       [8.62992290e-01, 1.37007710e-01],\n",
       "       [9.96286453e-01, 3.71354690e-03],\n",
       "       [9.99469968e-01, 5.30031569e-04],\n",
       "       [1.75710721e-01, 8.24289279e-01],\n",
       "       [9.98995678e-01, 1.00432196e-03],\n",
       "       [1.90444649e-08, 9.99999981e-01],\n",
       "       [5.15296258e-01, 4.84703742e-01],\n",
       "       [9.43323352e-03, 9.90566766e-01],\n",
       "       [9.55021312e-01, 4.49786876e-02],\n",
       "       [8.48510041e-01, 1.51489959e-01],\n",
       "       [8.71756802e-01, 1.28243198e-01],\n",
       "       [7.80169057e-01, 2.19830943e-01],\n",
       "       [9.65027080e-01, 3.49729205e-02],\n",
       "       [9.27903152e-01, 7.20968476e-02],\n",
       "       [9.98683007e-01, 1.31699307e-03],\n",
       "       [9.91302340e-01, 8.69765971e-03],\n",
       "       [9.96886321e-01, 3.11367872e-03],\n",
       "       [1.43291764e-01, 8.56708236e-01],\n",
       "       [9.96919787e-01, 3.08021321e-03],\n",
       "       [9.88923611e-01, 1.10763887e-02],\n",
       "       [4.67584911e-13, 1.00000000e+00],\n",
       "       [9.88460454e-01, 1.15395460e-02],\n",
       "       [9.98432589e-01, 1.56741090e-03],\n",
       "       [1.00882129e-01, 8.99117871e-01],\n",
       "       [5.41799240e-01, 4.58200760e-01],\n",
       "       [9.98898415e-01, 1.10158515e-03],\n",
       "       [3.00000090e-14, 1.00000000e+00],\n",
       "       [9.08743151e-01, 9.12568485e-02],\n",
       "       [9.89152718e-01, 1.08472818e-02],\n",
       "       [8.42903280e-01, 1.57096720e-01],\n",
       "       [9.97551239e-01, 2.44876069e-03],\n",
       "       [9.93087262e-01, 6.91273787e-03],\n",
       "       [9.89854947e-01, 1.01450532e-02],\n",
       "       [9.95835460e-01, 4.16453986e-03],\n",
       "       [9.06759491e-03, 9.90932405e-01],\n",
       "       [9.65641019e-01, 3.43589812e-02],\n",
       "       [1.47076274e-02, 9.85292373e-01],\n",
       "       [1.81499606e-01, 8.18500394e-01],\n",
       "       [9.83883893e-01, 1.61161068e-02],\n",
       "       [3.00000090e-14, 1.00000000e+00],\n",
       "       [9.98061534e-01, 1.93846615e-03],\n",
       "       [9.69587130e-01, 3.04128699e-02],\n",
       "       [9.74221639e-01, 2.57783615e-02],\n",
       "       [9.88513923e-01, 1.14860774e-02],\n",
       "       [9.24224291e-01, 7.57757095e-02],\n",
       "       [1.06604668e-02, 9.89339533e-01],\n",
       "       [9.94752483e-01, 5.24751740e-03],\n",
       "       [9.95262591e-01, 4.73740938e-03],\n",
       "       [9.48858170e-01, 5.11418302e-02],\n",
       "       [9.95928071e-01, 4.07192888e-03],\n",
       "       [9.98648990e-01, 1.35100963e-03],\n",
       "       [9.95215065e-01, 4.78493484e-03],\n",
       "       [1.72398232e-01, 8.27601768e-01],\n",
       "       [3.44118638e-01, 6.55881362e-01],\n",
       "       [8.99938418e-01, 1.00061582e-01],\n",
       "       [9.77177264e-01, 2.28227358e-02],\n",
       "       [9.70528407e-01, 2.94715926e-02],\n",
       "       [4.39468071e-08, 9.99999956e-01],\n",
       "       [9.89574834e-01, 1.04251663e-02],\n",
       "       [9.93779296e-01, 6.22070422e-03],\n",
       "       [9.97798738e-01, 2.20126167e-03],\n",
       "       [1.11822124e-12, 1.00000000e+00],\n",
       "       [2.15932462e-09, 9.99999998e-01],\n",
       "       [9.44603360e-01, 5.53966399e-02],\n",
       "       [1.17848254e-07, 9.99999882e-01],\n",
       "       [3.00000090e-14, 1.00000000e+00],\n",
       "       [2.33207328e-01, 7.66792672e-01],\n",
       "       [9.99657500e-01, 3.42499650e-04],\n",
       "       [1.26793338e-02, 9.87320666e-01],\n",
       "       [9.62758181e-01, 3.72418187e-02],\n",
       "       [9.96263487e-01, 3.73651309e-03],\n",
       "       [9.52884686e-01, 4.71153140e-02],\n",
       "       [9.81695076e-03, 9.90183049e-01],\n",
       "       [9.22240460e-02, 9.07775954e-01],\n",
       "       [2.80830291e-01, 7.19169709e-01],\n",
       "       [6.77441857e-08, 9.99999932e-01],\n",
       "       [9.96881524e-01, 3.11847607e-03],\n",
       "       [9.40035352e-01, 5.99646477e-02],\n",
       "       [9.99608353e-01, 3.91647422e-04],\n",
       "       [9.79713907e-01, 2.02860932e-02],\n",
       "       [4.29879996e-01, 5.70120004e-01],\n",
       "       [9.57636952e-01, 4.23630476e-02],\n",
       "       [9.88174336e-01, 1.18256639e-02],\n",
       "       [7.37447683e-02, 9.26255232e-01],\n",
       "       [9.55392759e-01, 4.46072413e-02],\n",
       "       [8.21513313e-01, 1.78486687e-01],\n",
       "       [6.18107918e-01, 3.81892082e-01],\n",
       "       [3.08134158e-01, 6.91865842e-01],\n",
       "       [9.54193890e-01, 4.58061104e-02],\n",
       "       [9.99360645e-01, 6.39354908e-04],\n",
       "       [5.51599576e-01, 4.48400424e-01],\n",
       "       [9.90370411e-01, 9.62958934e-03],\n",
       "       [1.64941438e-02, 9.83505856e-01],\n",
       "       [7.06890204e-01, 2.93109796e-01],\n",
       "       [9.34331695e-01, 6.56683048e-02],\n",
       "       [5.39886792e-01, 4.60113208e-01],\n",
       "       [9.31768432e-01, 6.82315684e-02],\n",
       "       [4.89252241e-01, 5.10747759e-01],\n",
       "       [9.93355894e-01, 6.64410611e-03],\n",
       "       [5.11814002e-01, 4.88185998e-01],\n",
       "       [2.43682728e-10, 1.00000000e+00],\n",
       "       [9.94968699e-01, 5.03130112e-03],\n",
       "       [3.00000090e-14, 1.00000000e+00],\n",
       "       [9.85693220e-01, 1.43067803e-02],\n",
       "       [9.97575733e-01, 2.42426739e-03],\n",
       "       [9.16132631e-01, 8.38673692e-02],\n",
       "       [1.27224650e-01, 8.72775350e-01],\n",
       "       [3.46500437e-02, 9.65349956e-01],\n",
       "       [9.93535134e-01, 6.46486597e-03],\n",
       "       [3.29821428e-01, 6.70178572e-01],\n",
       "       [9.87297708e-01, 1.27022918e-02],\n",
       "       [3.29213289e-03, 9.96707867e-01],\n",
       "       [9.89424107e-01, 1.05758930e-02],\n",
       "       [9.55127099e-01, 4.48729014e-02],\n",
       "       [2.73087412e-01, 7.26912588e-01],\n",
       "       [9.79830295e-01, 2.01697050e-02],\n",
       "       [9.75735334e-01, 2.42646664e-02],\n",
       "       [9.01795422e-01, 9.82045775e-02],\n",
       "       [9.68643178e-01, 3.13568216e-02],\n",
       "       [8.83566802e-01, 1.16433198e-01],\n",
       "       [9.94963030e-01, 5.03696971e-03],\n",
       "       [1.09171509e-01, 8.90828491e-01],\n",
       "       [1.33781702e-01, 8.66218298e-01],\n",
       "       [9.99177327e-03, 9.90008227e-01],\n",
       "       [6.27049021e-13, 1.00000000e+00],\n",
       "       [3.00000090e-14, 1.00000000e+00],\n",
       "       [9.52175296e-01, 4.78247036e-02],\n",
       "       [2.03175720e-11, 1.00000000e+00],\n",
       "       [4.20256761e-03, 9.95797432e-01],\n",
       "       [3.00000090e-14, 1.00000000e+00],\n",
       "       [2.06796630e-01, 7.93203370e-01],\n",
       "       [5.44991976e-01, 4.55008024e-01],\n",
       "       [9.92016824e-01, 7.98317633e-03],\n",
       "       [9.85238264e-01, 1.47617362e-02],\n",
       "       [9.64557061e-01, 3.54429389e-02],\n",
       "       [2.33994294e-10, 1.00000000e+00],\n",
       "       [7.83598597e-01, 2.16401403e-01],\n",
       "       [9.88815819e-01, 1.11841807e-02],\n",
       "       [9.75473530e-01, 2.45264705e-02],\n",
       "       [9.95727284e-01, 4.27271557e-03],\n",
       "       [7.53239975e-01, 2.46760025e-01],\n",
       "       [9.99207903e-01, 7.92096814e-04],\n",
       "       [7.04674156e-01, 2.95325844e-01],\n",
       "       [8.20546857e-01, 1.79453143e-01],\n",
       "       [3.98141977e-11, 1.00000000e+00],\n",
       "       [1.76949785e-01, 8.23050215e-01],\n",
       "       [9.95364439e-01, 4.63556123e-03],\n",
       "       [2.52556049e-03, 9.97474440e-01],\n",
       "       [9.34936595e-02, 9.06506341e-01],\n",
       "       [9.37074578e-01, 6.29254217e-02],\n",
       "       [2.97494815e-11, 1.00000000e+00],\n",
       "       [9.93193349e-01, 6.80665125e-03],\n",
       "       [2.29540032e-11, 1.00000000e+00],\n",
       "       [2.63559242e-11, 1.00000000e+00],\n",
       "       [3.69331511e-01, 6.30668489e-01],\n",
       "       [8.36442291e-01, 1.63557709e-01],\n",
       "       [9.98499710e-01, 1.50028964e-03],\n",
       "       [6.88968554e-01, 3.11031446e-01],\n",
       "       [9.93970606e-01, 6.02939387e-03],\n",
       "       [7.97957362e-01, 2.02042638e-01],\n",
       "       [9.98212600e-01, 1.78739989e-03],\n",
       "       [9.95305417e-01, 4.69458263e-03],\n",
       "       [5.36712504e-01, 4.63287496e-01],\n",
       "       [9.85021525e-01, 1.49784750e-02],\n",
       "       [1.41395119e-01, 8.58604881e-01],\n",
       "       [1.58256731e-06, 9.99998417e-01],\n",
       "       [9.40506043e-01, 5.94939573e-02],\n",
       "       [3.42884775e-02, 9.65711523e-01],\n",
       "       [9.92420975e-01, 7.57902480e-03],\n",
       "       [8.66654464e-01, 1.33345536e-01],\n",
       "       [9.91743878e-01, 8.25612248e-03],\n",
       "       [9.90696700e-01, 9.30330018e-03],\n",
       "       [9.99708153e-01, 2.91846509e-04],\n",
       "       [9.98874383e-01, 1.12561654e-03],\n",
       "       [8.21260125e-01, 1.78739875e-01],\n",
       "       [1.83394525e-02, 9.81660547e-01],\n",
       "       [9.68318254e-01, 3.16817464e-02],\n",
       "       [9.98851215e-01, 1.14878549e-03],\n",
       "       [9.88400791e-01, 1.15992090e-02],\n",
       "       [9.78337558e-01, 2.16624418e-02],\n",
       "       [8.10858042e-01, 1.89141958e-01],\n",
       "       [9.01931773e-01, 9.80682267e-02],\n",
       "       [1.18097239e-07, 9.99999882e-01],\n",
       "       [3.00000090e-14, 1.00000000e+00],\n",
       "       [9.84958584e-01, 1.50414161e-02],\n",
       "       [9.89650288e-01, 1.03497121e-02],\n",
       "       [9.96947722e-01, 3.05227796e-03],\n",
       "       [9.54998213e-01, 4.50017865e-02],\n",
       "       [4.82300934e-09, 9.99999995e-01],\n",
       "       [9.85495588e-01, 1.45044125e-02],\n",
       "       [9.95117264e-01, 4.88273628e-03],\n",
       "       [5.81796781e-03, 9.94182032e-01],\n",
       "       [5.05489854e-03, 9.94945101e-01]])"
      ]
     },
     "execution_count": 20,
     "metadata": {},
     "output_type": "execute_result"
    }
   ],
   "source": [
    "svm_model.predict_proba(x_train)"
   ]
  },
  {
   "cell_type": "code",
   "execution_count": 8,
   "metadata": {},
   "outputs": [
    {
     "data": {
      "text/plain": [
       "0.9714285714285714"
      ]
     },
     "execution_count": 8,
     "metadata": {},
     "output_type": "execute_result"
    }
   ],
   "source": [
    "from sklearn.metrics import confusion_matrix, accuracy_score\n",
    "\n",
    "accuracy_score(y_train, svm_model.predict(x_train))"
   ]
  },
  {
   "cell_type": "code",
   "execution_count": 9,
   "metadata": {},
   "outputs": [
    {
     "data": {
      "text/plain": [
       "array([[281,   6],\n",
       "       [  7, 161]], dtype=int64)"
      ]
     },
     "execution_count": 9,
     "metadata": {},
     "output_type": "execute_result"
    }
   ],
   "source": [
    "confusion_matrix(y_train, svm_model.predict(x_train))"
   ]
  },
  {
   "cell_type": "code",
   "execution_count": 10,
   "metadata": {},
   "outputs": [
    {
     "data": {
      "text/plain": [
       "0.956140350877193"
      ]
     },
     "execution_count": 10,
     "metadata": {},
     "output_type": "execute_result"
    }
   ],
   "source": [
    "accuracy_score(y_test, svm_model.predict(x_test))"
   ]
  },
  {
   "cell_type": "code",
   "execution_count": 11,
   "metadata": {},
   "outputs": [
    {
     "data": {
      "text/plain": [
       "array([[69,  1],\n",
       "       [ 4, 40]], dtype=int64)"
      ]
     },
     "execution_count": 11,
     "metadata": {},
     "output_type": "execute_result"
    }
   ],
   "source": [
    "confusion_matrix(y_test, svm_model.predict(x_test))"
   ]
  },
  {
   "cell_type": "code",
   "execution_count": 21,
   "metadata": {
    "collapsed": true
   },
   "outputs": [
    {
     "data": {
      "text/plain": [
       "array([0, 0, 1, 0, 1, 0, 1, 1, 1, 1, 0, 1, 0, 0, 0, 0, 1, 1, 0, 1, 0, 0,\n",
       "       0, 0, 0, 0, 0, 0, 0, 0, 1, 1, 0, 0, 0, 1, 0, 1, 0, 1, 1, 1, 0, 1,\n",
       "       0, 0, 0, 1, 0, 0, 0, 1, 1, 0, 0, 1, 0, 0, 0, 0, 1, 1, 0, 0, 1, 1,\n",
       "       0, 0, 1, 0, 0, 1, 0, 0, 1, 1, 0, 0, 0, 1, 0, 1, 0, 0, 0, 1, 0, 1,\n",
       "       0, 1, 1, 0, 1, 0, 1, 0, 0, 0, 0, 0, 1, 0, 0, 0, 0, 0, 1, 0, 0, 0,\n",
       "       0, 1, 0, 0], dtype=int32)"
      ]
     },
     "execution_count": 21,
     "metadata": {},
     "output_type": "execute_result"
    }
   ],
   "source": [
    "svm_model.predict(x_test)"
   ]
  },
  {
   "cell_type": "code",
   "execution_count": 32,
   "metadata": {},
   "outputs": [],
   "source": [
    "from sklearn.model_selection import GridSearchCV"
   ]
  },
  {
   "cell_type": "code",
   "execution_count": 34,
   "metadata": {},
   "outputs": [
    {
     "name": "stdout",
     "output_type": "stream",
     "text": [
      "SVC(C=0.1, cache_size=200, class_weight=None, coef0=0.0,\n",
      "  decision_function_shape='ovr', degree=3, gamma=0.001, kernel='linear',\n",
      "  max_iter=-1, probability=False, random_state=None, shrinking=True,\n",
      "  tol=0.001, verbose=False)\n",
      "\n",
      "Best Score:  0.9692307692307692\n"
     ]
    }
   ],
   "source": [
    "svm_classifier = SVC()\n",
    "param_grid = {\n",
    "    \"C\":[0.001,0.01,0.1,1.0],\n",
    "    \"kernel\":[\"linear\",\"sigmoid\"],\n",
    "    \"gamma\":[0.001,0.01,0.1,1.0]\n",
    "}\n",
    "grid = GridSearchCV (estimator=svm_classifier, param_grid=param_grid, cv=5)\n",
    "grid.fit(x_train, y_train)\n",
    "print(grid.best_estimator_)\n",
    "print(\"\\nBest Score: \",grid.best_score_)"
   ]
  },
  {
   "cell_type": "code",
   "execution_count": 36,
   "metadata": {},
   "outputs": [
    {
     "data": {
      "text/plain": [
       "0.9692307692307692"
      ]
     },
     "execution_count": 36,
     "metadata": {},
     "output_type": "execute_result"
    }
   ],
   "source": [
    "accuracy_score(y_train, grid.predict(x_train))"
   ]
  },
  {
   "cell_type": "code",
   "execution_count": 37,
   "metadata": {},
   "outputs": [
    {
     "data": {
      "text/plain": [
       "array([[282,   5],\n",
       "       [  9, 159]], dtype=int64)"
      ]
     },
     "execution_count": 37,
     "metadata": {},
     "output_type": "execute_result"
    }
   ],
   "source": [
    "confusion_matrix(y_train, grid.predict(x_train))"
   ]
  },
  {
   "cell_type": "code",
   "execution_count": 38,
   "metadata": {},
   "outputs": [
    {
     "data": {
      "text/plain": [
       "0.9122807017543859"
      ]
     },
     "execution_count": 38,
     "metadata": {},
     "output_type": "execute_result"
    }
   ],
   "source": [
    "accuracy_score(y_test, grid.predict(x_test))"
   ]
  },
  {
   "cell_type": "code",
   "execution_count": 39,
   "metadata": {},
   "outputs": [
    {
     "data": {
      "text/plain": [
       "array([[63,  7],\n",
       "       [ 3, 41]], dtype=int64)"
      ]
     },
     "execution_count": 39,
     "metadata": {},
     "output_type": "execute_result"
    }
   ],
   "source": [
    "confusion_matrix(y_test, grid.predict(x_test))"
   ]
  },
  {
   "cell_type": "code",
   "execution_count": null,
   "metadata": {},
   "outputs": [],
   "source": []
  }
 ],
 "metadata": {
  "kernelspec": {
   "display_name": "Python 3",
   "language": "python",
   "name": "python3"
  },
  "language_info": {
   "codemirror_mode": {
    "name": "ipython",
    "version": 3
   },
   "file_extension": ".py",
   "mimetype": "text/x-python",
   "name": "python",
   "nbconvert_exporter": "python",
   "pygments_lexer": "ipython3",
   "version": "3.6.5"
  }
 },
 "nbformat": 4,
 "nbformat_minor": 2
}
