{
 "cells": [
  {
   "cell_type": "code",
   "execution_count": 1,
   "metadata": {},
   "outputs": [],
   "source": [
    "import numpy as np\n",
    "import pandas as pd\n",
    "import matplotlib.pyplot as plt"
   ]
  },
  {
   "cell_type": "code",
   "execution_count": 2,
   "metadata": {},
   "outputs": [],
   "source": [
    "df = pd.read_excel(\"credit_card_payment.xls\", first_sheet = \"Sheet1\")"
   ]
  },
  {
   "cell_type": "code",
   "execution_count": 3,
   "metadata": {},
   "outputs": [
    {
     "data": {
      "text/plain": [
       "(30000, 25)"
      ]
     },
     "execution_count": 3,
     "metadata": {},
     "output_type": "execute_result"
    }
   ],
   "source": [
    "df.shape"
   ]
  },
  {
   "cell_type": "code",
   "execution_count": 4,
   "metadata": {},
   "outputs": [],
   "source": [
    "x = df.iloc[:,1:-1].values \n",
    "y = df.iloc[:,-1].values"
   ]
  },
  {
   "cell_type": "code",
   "execution_count": 5,
   "metadata": {},
   "outputs": [
    {
     "data": {
      "text/plain": [
       "(30000,)"
      ]
     },
     "execution_count": 5,
     "metadata": {},
     "output_type": "execute_result"
    }
   ],
   "source": [
    "y.shape"
   ]
  },
  {
   "cell_type": "code",
   "execution_count": 6,
   "metadata": {},
   "outputs": [
    {
     "data": {
      "text/plain": [
       "array([[20000, 'Male', 2, 1, 24, 2, 2, -1, -1, -2, -2, 3913, 3102, 689,\n",
       "        0, 0, 0, 0, 689, 0, 0, 0, 0]], dtype=object)"
      ]
     },
     "execution_count": 6,
     "metadata": {},
     "output_type": "execute_result"
    }
   ],
   "source": [
    "x[:1]"
   ]
  },
  {
   "cell_type": "code",
   "execution_count": 7,
   "metadata": {},
   "outputs": [
    {
     "data": {
      "text/plain": [
       "array([[20000, 2, 1, ..., 0, 0, 0],\n",
       "       [120000, 2, 2, ..., 1000, 0, 2000],\n",
       "       [90000, 2, 2, ..., 1000, 1000, 5000],\n",
       "       ...,\n",
       "       [30000, 2, 2, ..., 4200, 2000, 3100],\n",
       "       [80000, 3, 1, ..., 1926, 52964, 1804],\n",
       "       [50000, 2, 1, ..., 1000, 1000, 1000]], dtype=object)"
      ]
     },
     "execution_count": 7,
     "metadata": {},
     "output_type": "execute_result"
    }
   ],
   "source": [
    "np.delete(x,1,1)"
   ]
  },
  {
   "cell_type": "code",
   "execution_count": 8,
   "metadata": {},
   "outputs": [],
   "source": [
    "x = np.delete(x,1,1)"
   ]
  },
  {
   "cell_type": "code",
   "execution_count": 9,
   "metadata": {},
   "outputs": [
    {
     "data": {
      "text/plain": [
       "array([[20000, 2, 1, ..., 0, 0, 0],\n",
       "       [120000, 2, 2, ..., 1000, 0, 2000],\n",
       "       [90000, 2, 2, ..., 1000, 1000, 5000],\n",
       "       ...,\n",
       "       [30000, 2, 2, ..., 4200, 2000, 3100],\n",
       "       [80000, 3, 1, ..., 1926, 52964, 1804],\n",
       "       [50000, 2, 1, ..., 1000, 1000, 1000]], dtype=object)"
      ]
     },
     "execution_count": 9,
     "metadata": {},
     "output_type": "execute_result"
    }
   ],
   "source": [
    "x"
   ]
  },
  {
   "cell_type": "code",
   "execution_count": 10,
   "metadata": {},
   "outputs": [],
   "source": [
    "from sklearn.model_selection import train_test_split\n",
    "x_train, x_test, y_train, y_test = train_test_split(x, y, test_size=0.2)"
   ]
  },
  {
   "cell_type": "code",
   "execution_count": 11,
   "metadata": {},
   "outputs": [
    {
     "data": {
      "text/plain": [
       "(6000, 22)"
      ]
     },
     "execution_count": 11,
     "metadata": {},
     "output_type": "execute_result"
    }
   ],
   "source": [
    "x_test.shape"
   ]
  },
  {
   "cell_type": "code",
   "execution_count": 12,
   "metadata": {},
   "outputs": [
    {
     "data": {
      "text/plain": [
       "LogisticRegression(C=1.0, class_weight=None, dual=False, fit_intercept=True,\n",
       "          intercept_scaling=1, max_iter=100, multi_class='ovr', n_jobs=1,\n",
       "          penalty='l2', random_state=None, solver='liblinear', tol=0.0001,\n",
       "          verbose=0, warm_start=False)"
      ]
     },
     "execution_count": 12,
     "metadata": {},
     "output_type": "execute_result"
    }
   ],
   "source": [
    "from sklearn.linear_model import LogisticRegression\n",
    "lr = LogisticRegression()\n",
    "lr.fit(x_train, y_train)"
   ]
  },
  {
   "cell_type": "code",
   "execution_count": 15,
   "metadata": {},
   "outputs": [
    {
     "data": {
      "text/plain": [
       "array([[18739,     2],\n",
       "       [ 5259,     0]], dtype=int64)"
      ]
     },
     "execution_count": 15,
     "metadata": {},
     "output_type": "execute_result"
    }
   ],
   "source": [
    "from sklearn.metrics import confusion_matrix, accuracy_score\n",
    "confusion_matrix(y_train,lr.predict(x_train))"
   ]
  },
  {
   "cell_type": "code",
   "execution_count": 16,
   "metadata": {},
   "outputs": [
    {
     "data": {
      "text/plain": [
       "0.7807916666666667"
      ]
     },
     "execution_count": 16,
     "metadata": {},
     "output_type": "execute_result"
    }
   ],
   "source": [
    "lr.score(x_train,y_train)"
   ]
  },
  {
   "cell_type": "code",
   "execution_count": 17,
   "metadata": {},
   "outputs": [
    {
     "data": {
      "text/plain": [
       "0.7705"
      ]
     },
     "execution_count": 17,
     "metadata": {},
     "output_type": "execute_result"
    }
   ],
   "source": [
    "lr.score(x_test,y_test)"
   ]
  },
  {
   "cell_type": "code",
   "execution_count": 18,
   "metadata": {},
   "outputs": [
    {
     "data": {
      "text/plain": [
       "array([[0.75359535, 0.24640465],\n",
       "       [0.6394955 , 0.3605045 ],\n",
       "       [0.60100934, 0.39899066],\n",
       "       ...,\n",
       "       [0.69306869, 0.30693131],\n",
       "       [0.73829977, 0.26170023],\n",
       "       [0.85770878, 0.14229122]])"
      ]
     },
     "execution_count": 18,
     "metadata": {},
     "output_type": "execute_result"
    }
   ],
   "source": [
    "lr.predict_proba(x_train)[,1]"
   ]
  },
  {
   "cell_type": "code",
   "execution_count": 22,
   "metadata": {},
   "outputs": [],
   "source": [
    "prob = lr.predict_proba(x_train)[:,1]"
   ]
  },
  {
   "cell_type": "code",
   "execution_count": 24,
   "metadata": {
    "collapsed": true
   },
   "outputs": [
    {
     "name": "stdout",
     "output_type": "stream",
     "text": [
      "Threshold is 0.0\n",
      "[[    0 18741]\n",
      " [    0  5259]]\n",
      "\n",
      "Threshold is 0.05\n",
      "[[ 1098 17643]\n",
      " [   88  5171]]\n",
      "\n",
      "Threshold is 0.1\n",
      "[[ 2540 16201]\n",
      " [  266  4993]]\n",
      "\n",
      "Threshold is 0.15000000000000002\n",
      "[[ 4723 14018]\n",
      " [  599  4660]]\n",
      "\n",
      "Threshold is 0.2\n",
      "[[ 7501 11240]\n",
      " [ 1114  4145]]\n",
      "\n",
      "Threshold is 0.25\n",
      "[[10633  8108]\n",
      " [ 1844  3415]]\n",
      "\n",
      "Threshold is 0.30000000000000004\n",
      "[[14033  4708]\n",
      " [ 2876  2383]]\n",
      "\n",
      "Threshold is 0.35000000000000003\n",
      "[[16936  1805]\n",
      " [ 4167  1092]]\n",
      "\n",
      "Threshold is 0.4\n",
      "[[18630   111]\n",
      " [ 5147   112]]\n",
      "\n",
      "Threshold is 0.45\n",
      "[[18737     4]\n",
      " [ 5258     1]]\n",
      "\n",
      "Threshold is 0.5\n",
      "[[18739     2]\n",
      " [ 5259     0]]\n",
      "\n",
      "Threshold is 0.55\n",
      "[[18740     1]\n",
      " [ 5259     0]]\n",
      "\n",
      "Threshold is 0.6000000000000001\n",
      "[[18740     1]\n",
      " [ 5259     0]]\n",
      "\n",
      "Threshold is 0.65\n",
      "[[18741     0]\n",
      " [ 5259     0]]\n",
      "\n",
      "Threshold is 0.7000000000000001\n",
      "[[18741     0]\n",
      " [ 5259     0]]\n",
      "\n",
      "Threshold is 0.75\n",
      "[[18741     0]\n",
      " [ 5259     0]]\n",
      "\n",
      "Threshold is 0.8\n",
      "[[18741     0]\n",
      " [ 5259     0]]\n",
      "\n",
      "Threshold is 0.8500000000000001\n",
      "[[18741     0]\n",
      " [ 5259     0]]\n",
      "\n",
      "Threshold is 0.9\n",
      "[[18741     0]\n",
      " [ 5259     0]]\n",
      "\n",
      "Threshold is 0.9500000000000001\n",
      "[[18741     0]\n",
      " [ 5259     0]]\n",
      "\n"
     ]
    }
   ],
   "source": [
    "for t in np.arange(0,1,0.05):\n",
    "    class_labels = prob >= t\n",
    "    print(\"Threshold is\", t)\n",
    "    print(confusion_matrix(y_train,class_labels.astype(int)))\n",
    "    print()"
   ]
  },
  {
   "cell_type": "code",
   "execution_count": 47,
   "metadata": {},
   "outputs": [
    {
     "data": {
      "text/plain": [
       "0.852625"
      ]
     },
     "execution_count": 47,
     "metadata": {},
     "output_type": "execute_result"
    }
   ],
   "source": [
    "from sklearn.ensemble import RandomForestClassifier\n",
    "rf_classifier = RandomForestClassifier(criterion='entropy',n_estimators=100,max_features=10,max_depth=10)\n",
    "rf_classifier.fit(x_train,y_train)\n",
    "rf_classifier.score(x_train,y_train)"
   ]
  },
  {
   "cell_type": "code",
   "execution_count": 51,
   "metadata": {},
   "outputs": [
    {
     "data": {
      "text/plain": [
       "GridSearchCV(cv=5, error_score='raise',\n",
       "       estimator=RandomForestClassifier(bootstrap=True, class_weight=None, criterion='gini',\n",
       "            max_depth=None, max_features='auto', max_leaf_nodes=None,\n",
       "            min_impurity_decrease=0.0, min_impurity_split=None,\n",
       "            min_samples_leaf=1, min_samples_split=2,\n",
       "            min_weight_fraction_leaf=0.0, n_estimators=10, n_jobs=1,\n",
       "            oob_score=False, random_state=None, verbose=0,\n",
       "            warm_start=False),\n",
       "       fit_params=None, iid=True, n_jobs=1,\n",
       "       param_grid={'min_samples_leaf': array([1, 2, 3, 4, 5, 6, 7, 8, 9]), 'max_features': [3, 5, 7, 10], 'max_depth': [5, 4, 3, None], 'criterion': ['gini', 'entropy']},\n",
       "       pre_dispatch='2*n_jobs', refit=True, return_train_score='warn',\n",
       "       scoring=None, verbose=0)"
      ]
     },
     "execution_count": 51,
     "metadata": {},
     "output_type": "execute_result"
    }
   ],
   "source": [
    "from sklearn.model_selection import GridSearchCV\n",
    "forest = RandomForestClassifier()\n",
    "param_grid = {\n",
    "    \"min_samples_leaf\": np.arange(1,10,1),\n",
    "    \"max_features\": [3,5,7,10],\n",
    "    \"max_depth\": [5,4,3,None],\n",
    "    \"criterion\":['gini','entropy']\n",
    "}\n",
    "grid = GridSearchCV (estimator=forest, param_grid=param_grid, cv=5)\n",
    "grid.fit(x_train, y_train)"
   ]
  },
  {
   "cell_type": "code",
   "execution_count": 52,
   "metadata": {},
   "outputs": [
    {
     "name": "stdout",
     "output_type": "stream",
     "text": [
      "RandomForestClassifier(bootstrap=True, class_weight=None, criterion='gini',\n",
      "            max_depth=4, max_features=10, max_leaf_nodes=None,\n",
      "            min_impurity_decrease=0.0, min_impurity_split=None,\n",
      "            min_samples_leaf=6, min_samples_split=2,\n",
      "            min_weight_fraction_leaf=0.0, n_estimators=10, n_jobs=1,\n",
      "            oob_score=False, random_state=None, verbose=0,\n",
      "            warm_start=False) 0.822875\n"
     ]
    }
   ],
   "source": [
    "print(grid.best_estimator_,grid.best_score_)"
   ]
  },
  {
   "cell_type": "code",
   "execution_count": 53,
   "metadata": {},
   "outputs": [
    {
     "data": {
      "text/plain": [
       "array([[18195,   546],\n",
       "       [ 2991,  2268]], dtype=int64)"
      ]
     },
     "execution_count": 53,
     "metadata": {},
     "output_type": "execute_result"
    }
   ],
   "source": [
    "confusion_matrix(y_train,rf_classifier.predict(x_train))"
   ]
  },
  {
   "cell_type": "code",
   "execution_count": 54,
   "metadata": {},
   "outputs": [
    {
     "data": {
      "text/plain": [
       "array([[4437,  186],\n",
       "       [ 903,  474]], dtype=int64)"
      ]
     },
     "execution_count": 54,
     "metadata": {},
     "output_type": "execute_result"
    }
   ],
   "source": [
    "confusion_matrix(y_test,rf_classifier.predict(x_test))"
   ]
  },
  {
   "cell_type": "code",
   "execution_count": 48,
   "metadata": {},
   "outputs": [
    {
     "data": {
      "text/plain": [
       "0.8185"
      ]
     },
     "execution_count": 48,
     "metadata": {},
     "output_type": "execute_result"
    }
   ],
   "source": [
    "rf_classifier.score(x_test,y_test)"
   ]
  },
  {
   "cell_type": "code",
   "execution_count": 49,
   "metadata": {},
   "outputs": [
    {
     "data": {
      "text/plain": [
       "array([[18195,   546],\n",
       "       [ 2991,  2268]], dtype=int64)"
      ]
     },
     "execution_count": 49,
     "metadata": {},
     "output_type": "execute_result"
    }
   ],
   "source": [
    "confusion_matrix(y_train,rf_classifier.predict(x_train))"
   ]
  },
  {
   "cell_type": "code",
   "execution_count": 50,
   "metadata": {},
   "outputs": [
    {
     "data": {
      "text/plain": [
       "array([[4437,  186],\n",
       "       [ 903,  474]], dtype=int64)"
      ]
     },
     "execution_count": 50,
     "metadata": {},
     "output_type": "execute_result"
    }
   ],
   "source": [
    "confusion_matrix(y_test,rf_classifier.predict(x_test))"
   ]
  },
  {
   "cell_type": "code",
   "execution_count": null,
   "metadata": {},
   "outputs": [],
   "source": []
  }
 ],
 "metadata": {
  "kernelspec": {
   "display_name": "Python 3",
   "language": "python",
   "name": "python3"
  },
  "language_info": {
   "codemirror_mode": {
    "name": "ipython",
    "version": 3
   },
   "file_extension": ".py",
   "mimetype": "text/x-python",
   "name": "python",
   "nbconvert_exporter": "python",
   "pygments_lexer": "ipython3",
   "version": "3.6.5"
  }
 },
 "nbformat": 4,
 "nbformat_minor": 2
}
