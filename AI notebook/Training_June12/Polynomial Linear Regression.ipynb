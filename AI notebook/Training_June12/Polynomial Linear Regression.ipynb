{
 "cells": [
  {
   "cell_type": "code",
   "execution_count": 14,
   "metadata": {},
   "outputs": [
    {
     "name": "stderr",
     "output_type": "stream",
     "text": [
      "UsageError: unrecognized arguments: #to see matplotlib inline in notebook\n"
     ]
    }
   ],
   "source": [
    "import numpy as np\n",
    "import pandas as pd \n",
    "import matplotlib.pyplot as plt \n",
    "import seaborn as sns #Another library for visualization\n",
    "np.set_printoptions(suppress=True)\n",
    "sns.set_style(\"ticks\") #to see seaborn inline in notebook\n",
    "%matplotlib inline #to see matplotlib inline in notebook\n",
    "plt.style.use(\"seaborn-poster\")  # make bigger plots"
   ]
  },
  {
   "cell_type": "code",
   "execution_count": 15,
   "metadata": {
    "collapsed": true
   },
   "outputs": [
    {
     "data": {
      "text/html": [
       "<div>\n",
       "<style scoped>\n",
       "    .dataframe tbody tr th:only-of-type {\n",
       "        vertical-align: middle;\n",
       "    }\n",
       "\n",
       "    .dataframe tbody tr th {\n",
       "        vertical-align: top;\n",
       "    }\n",
       "\n",
       "    .dataframe thead th {\n",
       "        text-align: right;\n",
       "    }\n",
       "</style>\n",
       "<table border=\"1\" class=\"dataframe\">\n",
       "  <thead>\n",
       "    <tr style=\"text-align: right;\">\n",
       "      <th></th>\n",
       "      <th>AREA</th>\n",
       "      <th>FLOOR</th>\n",
       "      <th>ROOM</th>\n",
       "      <th>CODE</th>\n",
       "      <th>PRICE</th>\n",
       "    </tr>\n",
       "  </thead>\n",
       "  <tbody>\n",
       "    <tr>\n",
       "      <th>0</th>\n",
       "      <td>1000</td>\n",
       "      <td>7</td>\n",
       "      <td>2</td>\n",
       "      <td>B</td>\n",
       "      <td>5618</td>\n",
       "    </tr>\n",
       "    <tr>\n",
       "      <th>1</th>\n",
       "      <td>1030</td>\n",
       "      <td>7</td>\n",
       "      <td>1</td>\n",
       "      <td>A</td>\n",
       "      <td>5201</td>\n",
       "    </tr>\n",
       "    <tr>\n",
       "      <th>2</th>\n",
       "      <td>1060</td>\n",
       "      <td>1</td>\n",
       "      <td>1</td>\n",
       "      <td>A</td>\n",
       "      <td>4779</td>\n",
       "    </tr>\n",
       "    <tr>\n",
       "      <th>3</th>\n",
       "      <td>1090</td>\n",
       "      <td>6</td>\n",
       "      <td>1</td>\n",
       "      <td>A</td>\n",
       "      <td>5425</td>\n",
       "    </tr>\n",
       "    <tr>\n",
       "      <th>4</th>\n",
       "      <td>1120</td>\n",
       "      <td>0</td>\n",
       "      <td>2</td>\n",
       "      <td>B</td>\n",
       "      <td>5657</td>\n",
       "    </tr>\n",
       "    <tr>\n",
       "      <th>5</th>\n",
       "      <td>1150</td>\n",
       "      <td>1</td>\n",
       "      <td>1</td>\n",
       "      <td>B</td>\n",
       "      <td>4945</td>\n",
       "    </tr>\n",
       "    <tr>\n",
       "      <th>6</th>\n",
       "      <td>1180</td>\n",
       "      <td>6</td>\n",
       "      <td>2</td>\n",
       "      <td>B</td>\n",
       "      <td>6475</td>\n",
       "    </tr>\n",
       "    <tr>\n",
       "      <th>7</th>\n",
       "      <td>1210</td>\n",
       "      <td>0</td>\n",
       "      <td>1</td>\n",
       "      <td>A</td>\n",
       "      <td>5352</td>\n",
       "    </tr>\n",
       "    <tr>\n",
       "      <th>8</th>\n",
       "      <td>1240</td>\n",
       "      <td>0</td>\n",
       "      <td>2</td>\n",
       "      <td>B</td>\n",
       "      <td>6290</td>\n",
       "    </tr>\n",
       "    <tr>\n",
       "      <th>9</th>\n",
       "      <td>1270</td>\n",
       "      <td>7</td>\n",
       "      <td>1</td>\n",
       "      <td>A</td>\n",
       "      <td>6147</td>\n",
       "    </tr>\n",
       "  </tbody>\n",
       "</table>\n",
       "</div>"
      ],
      "text/plain": [
       "   AREA  FLOOR  ROOM CODE  PRICE\n",
       "0  1000      7     2    B   5618\n",
       "1  1030      7     1    A   5201\n",
       "2  1060      1     1    A   4779\n",
       "3  1090      6     1    A   5425\n",
       "4  1120      0     2    B   5657\n",
       "5  1150      1     1    B   4945\n",
       "6  1180      6     2    B   6475\n",
       "7  1210      0     1    A   5352\n",
       "8  1240      0     2    B   6290\n",
       "9  1270      7     1    A   6147"
      ]
     },
     "execution_count": 15,
     "metadata": {},
     "output_type": "execute_result"
    }
   ],
   "source": [
    "df=pd.read_csv(\"housing_prices.csv\")\n",
    "df.head(10)"
   ]
  },
  {
   "cell_type": "code",
   "execution_count": 16,
   "metadata": {},
   "outputs": [],
   "source": [
    "x=df.iloc[:,:-2].values # Code and target(price)\n",
    "y=df.iloc[:,-1].values"
   ]
  },
  {
   "cell_type": "code",
   "execution_count": 4,
   "metadata": {},
   "outputs": [],
   "source": [
    "# Not Needed\n",
    "x=x[:,:-1] # code column can be removed (Trainer making example easy)"
   ]
  },
  {
   "cell_type": "code",
   "execution_count": 17,
   "metadata": {},
   "outputs": [
    {
     "data": {
      "text/plain": [
       "array([[1000,    7,    2],\n",
       "       [1030,    7,    1],\n",
       "       [1060,    1,    1],\n",
       "       [1090,    6,    1],\n",
       "       [1120,    0,    2],\n",
       "       [1150,    1,    1],\n",
       "       [1180,    6,    2],\n",
       "       [1210,    0,    1],\n",
       "       [1240,    0,    2],\n",
       "       [1270,    7,    1],\n",
       "       [1300,   10,    2],\n",
       "       [1330,    3,    2],\n",
       "       [1360,    3,    3],\n",
       "       [1390,    8,    3],\n",
       "       [1420,    3,    2],\n",
       "       [1450,    7,    2],\n",
       "       [1480,    8,    3],\n",
       "       [1510,    7,    2],\n",
       "       [1540,    6,    3],\n",
       "       [1570,    8,    3],\n",
       "       [1600,    6,    2],\n",
       "       [1630,    4,    3],\n",
       "       [1660,    1,    3],\n",
       "       [1690,    3,    3],\n",
       "       [1720,    3,    3],\n",
       "       [1750,    0,    2],\n",
       "       [1780,    4,    2],\n",
       "       [1810,    1,    3],\n",
       "       [1840,    6,    2],\n",
       "       [1870,    6,    3],\n",
       "       [1900,    8,    2],\n",
       "       [1930,    8,    2],\n",
       "       [1960,    0,    2],\n",
       "       [1990,    8,    2],\n",
       "       [2020,    0,    4],\n",
       "       [2050,   10,    3],\n",
       "       [2080,    9,    5],\n",
       "       [2110,   10,    3],\n",
       "       [2140,    7,    3],\n",
       "       [2170,    1,    4],\n",
       "       [2200,    4,    3],\n",
       "       [2230,    3,    3],\n",
       "       [2260,    8,    4],\n",
       "       [2290,    4,    4],\n",
       "       [2320,    2,    4],\n",
       "       [2350,    5,    4],\n",
       "       [2380,   10,    4],\n",
       "       [2410,    6,    4],\n",
       "       [2440,    9,    3],\n",
       "       [2470,    3,    3]], dtype=int64)"
      ]
     },
     "execution_count": 17,
     "metadata": {},
     "output_type": "execute_result"
    }
   ],
   "source": [
    "x"
   ]
  },
  {
   "cell_type": "code",
   "execution_count": 6,
   "metadata": {},
   "outputs": [
    {
     "name": "stdout",
     "output_type": "stream",
     "text": [
      "Train of x:  (40, 2)\n",
      "Train of y: (40,)\n",
      "Test of x: (10, 2)\n",
      "Test of y: (10,)\n"
     ]
    }
   ],
   "source": [
    "from sklearn.model_selection import train_test_split\n",
    "x_train,x_test,y_train,y_test=train_test_split(x,y,test_size=0.2,random_state=42)\n",
    "print(\"Train of x: \",x_train.shape) # x is always 2d so that (40,1)\n",
    "print(\"Train of y:\",y_train.shape) # y is always 1d so that (40,)\n",
    "print(\"Test of x:\",x_test.shape)\n",
    "print('Test of y:',y_test.shape)"
   ]
  },
  {
   "cell_type": "code",
   "execution_count": 7,
   "metadata": {},
   "outputs": [
    {
     "data": {
      "text/plain": [
       "<matplotlib.axes._subplots.AxesSubplot at 0xa096bf0>"
      ]
     },
     "execution_count": 7,
     "metadata": {},
     "output_type": "execute_result"
    },
    {
     "data": {
      "image/png": "[encoded data removed]",
      "text/plain": [
       "<Figure size 432x288 with 1 Axes>"
      ]
     },
     "metadata": {},
     "output_type": "display_data"
    }
   ],
   "source": [
    "sns.regplot(x_train[:,0],y_train,order=1,ci=0)"
   ]
  },
  {
   "cell_type": "code",
   "execution_count": 8,
   "metadata": {},
   "outputs": [
    {
     "data": {
      "text/plain": [
       "<matplotlib.axes._subplots.AxesSubplot at 0xa155ff0>"
      ]
     },
     "execution_count": 8,
     "metadata": {},
     "output_type": "execute_result"
    },
    {
     "data": {
      "image/png": "[encoded data removed]",
      "text/plain": [
       "<Figure size 432x288 with 1 Axes>"
      ]
     },
     "metadata": {},
     "output_type": "display_data"
    }
   ],
   "source": [
    "sns.regplot(x_train[:,0],y_train,order=1,ci=100) # ci = 100 use to get shade around the regression line"
   ]
  },
  {
   "cell_type": "code",
   "execution_count": 9,
   "metadata": {},
   "outputs": [
    {
     "data": {
      "text/plain": [
       "<matplotlib.axes._subplots.AxesSubplot at 0xa140770>"
      ]
     },
     "execution_count": 9,
     "metadata": {},
     "output_type": "execute_result"
    },
    {
     "data": {
      "image/png": "[encoded data removed]",
      "text/plain": [
       "<Figure size 432x288 with 1 Axes>"
      ]
     },
     "metadata": {},
     "output_type": "display_data"
    }
   ],
   "source": [
    "sns.regplot(x_train[:,0],y_train,order=3,ci=100) # order increases, no. changes in the curve increases"
   ]
  },
  {
   "cell_type": "code",
   "execution_count": 10,
   "metadata": {},
   "outputs": [
    {
     "data": {
      "text/plain": [
       "<matplotlib.axes._subplots.AxesSubplot at 0xa1f5b90>"
      ]
     },
     "execution_count": 10,
     "metadata": {},
     "output_type": "execute_result"
    },
    {
     "data": {
      "image/png": "[encoded data removed]",
      "text/plain": [
       "<Figure size 432x288 with 1 Axes>"
      ]
     },
     "metadata": {},
     "output_type": "display_data"
    }
   ],
   "source": [
    "sns.regplot(x_train[:,0],y_train,order=5,ci=100)"
   ]
  },
  {
   "cell_type": "code",
   "execution_count": 11,
   "metadata": {},
   "outputs": [],
   "source": [
    "from sklearn.preprocessing import PolynomialFeatures\n",
    "poly_reg=PolynomialFeatures(degree=2)\n",
    "x_poly=poly_reg.fit_transform(x_train[:,0:1])"
   ]
  },
  {
   "cell_type": "code",
   "execution_count": 12,
   "metadata": {},
   "outputs": [
    {
     "name": "stdout",
     "output_type": "stream",
     "text": [
      "[[      1.    1360. 1849600.]\n",
      " [      1.    1120. 1254400.]\n",
      " [      1.    2110. 4452100.]\n",
      " [      1.    1240. 1537600.]\n",
      " [      1.    1090. 1188100.]\n",
      " [      1.    1180. 1392400.]\n",
      " [      1.    2230. 4972900.]\n",
      " [      1.    2380. 5664400.]\n",
      " [      1.    2410. 5808100.]\n",
      " [      1.    1450. 2102500.]]\n"
     ]
    }
   ],
   "source": [
    "print(x_poly[:10])"
   ]
  },
  {
   "cell_type": "code",
   "execution_count": 13,
   "metadata": {},
   "outputs": [
    {
     "data": {
      "text/plain": [
       "LinearRegression(copy_X=True, fit_intercept=True, n_jobs=1, normalize=False)"
      ]
     },
     "execution_count": 13,
     "metadata": {},
     "output_type": "execute_result"
    }
   ],
   "source": [
    "from sklearn.linear_model import LinearRegression\n",
    "reg_poly=LinearRegression()\n",
    "reg_poly.fit(x_poly[:,2:],y_train)"
   ]
  },
  {
   "cell_type": "code",
   "execution_count": null,
   "metadata": {},
   "outputs": [],
   "source": []
  }
 ],
 "metadata": {
  "kernelspec": {
   "display_name": "Python 3",
   "language": "python",
   "name": "python3"
  },
  "language_info": {
   "codemirror_mode": {
    "name": "ipython",
    "version": 3
   },
   "file_extension": ".py",
   "mimetype": "text/x-python",
   "name": "python",
   "nbconvert_exporter": "python",
   "pygments_lexer": "ipython3",
   "version": "3.6.5"
  }
 },
 "nbformat": 4,
 "nbformat_minor": 2
}
