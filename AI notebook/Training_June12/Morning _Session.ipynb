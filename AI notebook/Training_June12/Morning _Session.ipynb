{
 "cells": [
  {
   "cell_type": "code",
   "execution_count": 3,
   "metadata": {},
   "outputs": [
    {
     "name": "stdout",
     "output_type": "stream",
     "text": [
      "5\n"
     ]
    }
   ],
   "source": [
    "x=int(input())\n",
    "if(x%2==0):\n",
    "    print(\"Even\")"
   ]
  },
  {
   "cell_type": "code",
   "execution_count": 4,
   "metadata": {},
   "outputs": [
    {
     "name": "stdout",
     "output_type": "stream",
     "text": [
      "5\n",
      "Odd\n"
     ]
    }
   ],
   "source": [
    "x=int(input())\n",
    "if(x%2==0):\n",
    "    print(\"Even\")\n",
    "else:\n",
    "    print(\"Odd\")"
   ]
  },
  {
   "cell_type": "code",
   "execution_count": 23,
   "metadata": {},
   "outputs": [
    {
     "name": "stdout",
     "output_type": "stream",
     "text": [
      "4 2 Bye\n"
     ]
    }
   ],
   "source": [
    "x=5\n",
    "while x!=0:\n",
    "    if x%2==0:\n",
    "        print(x,end=\" \")\n",
    "    x-=1\n",
    "else:\n",
    "    print(\"Bye\")"
   ]
  },
  {
   "cell_type": "code",
   "execution_count": 24,
   "metadata": {},
   "outputs": [
    {
     "name": "stdout",
     "output_type": "stream",
     "text": [
      "4 2 "
     ]
    }
   ],
   "source": [
    "x=5\n",
    "while x!=0:\n",
    "    if x%2==0:\n",
    "        print(x,end=\" \")\n",
    "    x-=1\n",
    "    if x==1:\n",
    "        break\n",
    "else:\n",
    "    print(\"Bye\")"
   ]
  },
  {
   "cell_type": "code",
   "execution_count": 6,
   "metadata": {},
   "outputs": [
    {
     "name": "stdout",
     "output_type": "stream",
     "text": [
      "3\n",
      "4\n",
      "1 2 3 4\n",
      "4 3 2 1\n",
      "5 6 7 8\n",
      "1 2 3 4 \n",
      "4 3 2 1 \n",
      "5 6 7 8 \n",
      "End of Matrix\n"
     ]
    }
   ],
   "source": [
    "r=int(input())\n",
    "c=int(input())\n",
    "mat=[]\n",
    "for i in range(r):\n",
    "    temp=list(map(int,input().split()))\n",
    "    mat.append(temp)\n",
    "for i in range(r):\n",
    "    for j in range(c):\n",
    "        print(mat[i][j],end=\" \")\n",
    "    print(end=\"\\n\")\n",
    "else:\n",
    "    print(\"End of Matrix\")"
   ]
  },
  {
   "cell_type": "code",
   "execution_count": 31,
   "metadata": {},
   "outputs": [
    {
     "name": "stdout",
     "output_type": "stream",
     "text": [
      "Enter your Mark:59\n",
      "Fail\n"
     ]
    }
   ],
   "source": [
    "n=int(input(\"Enter your Mark:\"))\n",
    "if n>=90:\n",
    "    print(\"First Class\")\n",
    "elif n>=60:\n",
    "    print(\"Second Class\")\n",
    "else:\n",
    "    print(\"Fail\")"
   ]
  },
  {
   "cell_type": "code",
   "execution_count": 5,
   "metadata": {},
   "outputs": [
    {
     "name": "stdout",
     "output_type": "stream",
     "text": [
      "1.0\n",
      "1.7320508075688772\n",
      "2.23606797749979\n",
      "2.6457513110645907\n",
      "3.0\n",
      "3.3166247903554\n",
      "3.605551275463989\n",
      "3.872983346207417\n",
      "4.123105625617661\n",
      "4.358898943540674\n",
      "4.58257569495584\n",
      "4.795831523312719\n",
      "5.0\n",
      "5.196152422706632\n",
      "5.385164807134504\n",
      "5.5677643628300215\n",
      "5.744562646538029\n",
      "5.916079783099616\n",
      "6.082762530298219\n",
      "6.244997998398398\n",
      "6.4031242374328485\n",
      "6.557438524302\n",
      "6.708203932499369\n",
      "6.855654600401044\n",
      "7.0\n",
      "7.14142842854285\n"
     ]
    }
   ],
   "source": [
    "import math\n",
    "a=1\n",
    "count=0\n",
    "while count!=26:\n",
    "    print(math.sqrt(a))\n",
    "    count+=1\n",
    "    a+=2"
   ]
  },
  {
   "cell_type": "code",
   "execution_count": 3,
   "metadata": {},
   "outputs": [
    {
     "name": "stdout",
     "output_type": "stream",
     "text": [
      "First Class\n",
      "Fail\n",
      "Second Class\n"
     ]
    }
   ],
   "source": [
    "num=[100,45,60]\n",
    "for i in num:\n",
    "    if i>=90:\n",
    "        print(\"First Class\")\n",
    "    elif i>=60:\n",
    "        print(\"Second Class\")\n",
    "    else:\n",
    "        print(\"Fail\")"
   ]
  }
 ],
 "metadata": {
  "kernelspec": {
   "display_name": "Python 3",
   "language": "python",
   "name": "python3"
  },
  "language_info": {
   "codemirror_mode": {
    "name": "ipython",
    "version": 3
   },
   "file_extension": ".py",
   "mimetype": "text/x-python",
   "name": "python",
   "nbconvert_exporter": "python",
   "pygments_lexer": "ipython3",
   "version": "3.6.5"
  }
 },
 "nbformat": 4,
 "nbformat_minor": 2
}
